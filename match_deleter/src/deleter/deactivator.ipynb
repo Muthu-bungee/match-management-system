{
 "cells": [
  {
   "cell_type": "code",
   "execution_count": 1,
   "metadata": {},
   "outputs": [],
   "source": [
    "from pyspark.sql import DataFrame, Row\n",
    "from functools import reduce\n",
    "from pyspark.sql.types import *\n",
    "from pyspark.sql.functions import *\n",
    "from graphframes import *\n",
    "from pyspark import SparkContext\n",
    "from pyspark import SparkConf\n",
    "from pyspark.sql import SQLContext\n",
    "import uuid"
   ]
  },
  {
   "cell_type": "code",
   "execution_count": 2,
   "metadata": {},
   "outputs": [
    {
     "name": "stderr",
     "output_type": "stream",
     "text": [
      "23/12/11 17:53:30 WARN Utils: Your hostname, preacher resolves to a loopback address: 127.0.1.1; using 192.168.1.6 instead (on interface enp4s0)\n",
      "23/12/11 17:53:30 WARN Utils: Set SPARK_LOCAL_IP if you need to bind to another address\n",
      "WARNING: An illegal reflective access operation has occurred\n",
      "WARNING: Illegal reflective access by org.apache.spark.unsafe.Platform (file:/home/preacher/anaconda3/envs/deltarun/lib/python3.9/site-packages/pyspark/jars/spark-unsafe_2.12-3.2.1.jar) to constructor java.nio.DirectByteBuffer(long,int)\n",
      "WARNING: Please consider reporting this to the maintainers of org.apache.spark.unsafe.Platform\n",
      "WARNING: Use --illegal-access=warn to enable warnings of further illegal reflective access operations\n",
      "WARNING: All illegal access operations will be denied in a future release\n",
      "Using Spark's default log4j profile: org/apache/spark/log4j-defaults.properties\n",
      "Setting default log level to \"WARN\".\n",
      "To adjust logging level use sc.setLogLevel(newLevel). For SparkR, use setLogLevel(newLevel).\n",
      "23/12/11 17:53:31 WARN NativeCodeLoader: Unable to load native-hadoop library for your platform... using builtin-java classes where applicable\n",
      "23/12/11 17:53:31 WARN Utils: Service 'SparkUI' could not bind on port 4040. Attempting port 4041.\n",
      "/home/preacher/anaconda3/envs/deltarun/lib/python3.9/site-packages/pyspark/sql/context.py:77: FutureWarning: Deprecated in 3.0.0. Use SparkSession.builder.getOrCreate() instead.\n",
      "  warnings.warn(\n"
     ]
    }
   ],
   "source": [
    "conf=SparkConf()\n",
    "# conf.set(\"spark.executor.memory\", \"2g\")\n",
    "# conf.set(\"spark.driver.memory\", \"12g\")\n",
    "# conf.set(\"spark.cores.max\", \"6\")\n",
    "\n",
    "sc = SparkContext.getOrCreate(conf)\n",
    "\n",
    "spark = SQLContext(sc)"
   ]
  },
  {
   "cell_type": "code",
   "execution_count": 3,
   "metadata": {},
   "outputs": [],
   "source": [
    "mdw_schema = StructType([\n",
    "    StructField(\"pair_id\", StringType(), True),\n",
    "    StructField(\"base_sku_uuid\", StringType(), True),\n",
    "    StructField(\"base_source_store\", StringType(), True),\n",
    "    StructField(\"comp_sku_uuid\", StringType(), True),\n",
    "    StructField(\"comp_source_store\", StringType(), True),\n",
    "    StructField(\"seller_type\", StringType(), True),\n",
    "    StructField(\"bungee_audit_status\", StringType(), True)\n",
    "])\n",
    "\n",
    "sku_uuid_schema =  StructType([\n",
    "    StructField(\"sku_uuid\", StringType(), True),\n",
    "])"
   ]
  },
  {
   "cell_type": "code",
   "execution_count": 4,
   "metadata": {},
   "outputs": [],
   "source": [
    "mdw_data = [\n",
    "    [ \"1<>homedepot<>homedepot_a<>bcg<>bcg\",\"1<>homedepot<>homedepot\", \"homedepot<>homedepot\",\"a<>bcg<>bcg\",\"bcg<>bcg\",\"1P\",\"exact\"],\n",
    "    [ \"2<>homedepot<>homedepot_b<>bcg<>bcg\",\"2<>homedepot<>homedepot\", \"homedepot<>homedepot\",\"b<>bcg<>bcg\",\"bcg<>bcg\",\"1P\",\"similar\"],\n",
    "    [ \"3<>homedepot<>homedepot_c<>bcg<>bcg\",\"3<>homedepot<>homedepot\", \"homedepot<>homedepot\",\"c<>bcg<>bcg\",\"bcg<>bcg\",\"3P\",\"un_audited\"],\n",
    "    [ \"4<>petcarerx<>petcarerx_d<>chewy<>chewy\",\"4<>petcarerx<>petcarerx\",\"petcarerx<>petcarerx\",\"d<>chewy<>chewy\", \"chewy<>chewy\",\"3P\",\"pruned\"],\n",
    "    \n",
    "    [ \"7<>homedepot<>homedepot_e<>bcg<>bcg\",\"7<>homedepot<>homedepot\", \"homedepot<>homedepot\",\"e<>bcg<>bcg\",\"bcg<>bcg\",\"1P\",\"exact\"],\n",
    "    [ \"8<>homedepot<>homedepot_f<>bcg<>bcg\",\"8<>homedepot<>homedepot\", \"homedepot<>homedepot\",\"f<>bcg<>bcg\",\"bcg<>bcg\",\"1P\",\"similar\"],\n",
    "    [ \"9<>homedepot<>homedepot_g<>bcg<>bcg\",\"9<>homedepot<>homedepot\", \"homedepot<>homedepot\",\"g<>bcg<>bcg\",\"bcg<>bcg\",\"3P\",\"un_audited\"],\n",
    "    [ \"10<>petcarerx<>petcarerx_h<>chewy<>chewy\",\"10<>petcarerx<>petcarerx\",\"petcarerx<>petcarerx\",\"h<>chewy<>chewy\", \"chewy<>chewy\",\"3P\",\"pruned\"],\n",
    "    \n",
    "    [ \"5<>homedepot<>homedepot_i<>bcg<>bcg\",\"5<>homedepot<>homedepot\",\"homedepot<>homedepot\",\"i<>bcg<>bcg\",\"bcg<>bcg\",\"1P\",\"exact\"],\n",
    "    [ \"5<>homedepot<>homedepot_j<>bcg<>bcg\",\"5<>homedepot<>homedepot\",\"homedepot<>homedepot\",\"j<>bcg<>bcg\", \"bcg<>bcg\",\"3P\",\"similar\"],\n",
    "\n",
    "    [ \"11<>homedepot<>homedepot_k<>bcg<>bcg\",\"11<>homedepot<>homedepot\", \"homedepot<>homedepot\",\"k<>bcg<>bcg\",\"bcg<>bcg\",\"1P\",\"un_audited\"],\n",
    "    [ \"12<>homedepot<>homedepot_k<>bcg<>bcg\",\"12<>homedepot<>homedepot\", \"homedepot<>homedepot\",\"k<>bcg<>bcg\",\"bcg<>bcg\",\"3P\",\"pruned\"],\n",
    "]"
   ]
  },
  {
   "cell_type": "code",
   "execution_count": 5,
   "metadata": {},
   "outputs": [],
   "source": [
    "deactivated_products = [\n",
    "    [\"a<>bcg<>bcg\"],\n",
    "    [\"b<>bcg<>bcg\"],\n",
    "    [\"c<>bcg<>bcg\"],\n",
    "    [\"d<>chewy<>chewy\"],\n",
    "    [\"5<>homedepot<>homedepot\"],\n",
    "    [\"5<>homedepot<>homedepot\"],\n",
    "    [\"k<>bcg<>bcg\"],\n",
    "    [\"k<>bcg<>bcg\"],\n",
    "]"
   ]
  },
  {
   "cell_type": "code",
   "execution_count": 6,
   "metadata": {},
   "outputs": [
    {
     "name": "stderr",
     "output_type": "stream",
     "text": [
      "                                                                                \r"
     ]
    },
    {
     "name": "stdout",
     "output_type": "stream",
     "text": [
      "+--------------------+--------------------+--------------------+---------------+-----------------+-----------+-------------------+\n",
      "|             pair_id|       base_sku_uuid|   base_source_store|  comp_sku_uuid|comp_source_store|seller_type|bungee_audit_status|\n",
      "+--------------------+--------------------+--------------------+---------------+-----------------+-----------+-------------------+\n",
      "|1<>homedepot<>hom...|1<>homedepot<>hom...|homedepot<>homedepot|    a<>bcg<>bcg|         bcg<>bcg|         1P|              exact|\n",
      "|2<>homedepot<>hom...|2<>homedepot<>hom...|homedepot<>homedepot|    b<>bcg<>bcg|         bcg<>bcg|         1P|            similar|\n",
      "|3<>homedepot<>hom...|3<>homedepot<>hom...|homedepot<>homedepot|    c<>bcg<>bcg|         bcg<>bcg|         3P|         un_audited|\n",
      "|4<>petcarerx<>pet...|4<>petcarerx<>pet...|petcarerx<>petcarerx|d<>chewy<>chewy|     chewy<>chewy|         3P|             pruned|\n",
      "|7<>homedepot<>hom...|7<>homedepot<>hom...|homedepot<>homedepot|    e<>bcg<>bcg|         bcg<>bcg|         1P|              exact|\n",
      "|8<>homedepot<>hom...|8<>homedepot<>hom...|homedepot<>homedepot|    f<>bcg<>bcg|         bcg<>bcg|         1P|            similar|\n",
      "|9<>homedepot<>hom...|9<>homedepot<>hom...|homedepot<>homedepot|    g<>bcg<>bcg|         bcg<>bcg|         3P|         un_audited|\n",
      "|10<>petcarerx<>pe...|10<>petcarerx<>pe...|petcarerx<>petcarerx|h<>chewy<>chewy|     chewy<>chewy|         3P|             pruned|\n",
      "|5<>homedepot<>hom...|5<>homedepot<>hom...|homedepot<>homedepot|    i<>bcg<>bcg|         bcg<>bcg|         1P|              exact|\n",
      "|5<>homedepot<>hom...|5<>homedepot<>hom...|homedepot<>homedepot|    j<>bcg<>bcg|         bcg<>bcg|         3P|            similar|\n",
      "|11<>homedepot<>ho...|11<>homedepot<>ho...|homedepot<>homedepot|    k<>bcg<>bcg|         bcg<>bcg|         1P|         un_audited|\n",
      "|12<>homedepot<>ho...|12<>homedepot<>ho...|homedepot<>homedepot|    k<>bcg<>bcg|         bcg<>bcg|         3P|             pruned|\n",
      "+--------------------+--------------------+--------------------+---------------+-----------------+-----------+-------------------+\n",
      "\n",
      "+--------------------+\n",
      "|            sku_uuid|\n",
      "+--------------------+\n",
      "|         a<>bcg<>bcg|\n",
      "|         b<>bcg<>bcg|\n",
      "|         c<>bcg<>bcg|\n",
      "|     d<>chewy<>chewy|\n",
      "|5<>homedepot<>hom...|\n",
      "|5<>homedepot<>hom...|\n",
      "|         k<>bcg<>bcg|\n",
      "|         k<>bcg<>bcg|\n",
      "+--------------------+\n",
      "\n"
     ]
    }
   ],
   "source": [
    "mdw = spark.createDataFrame(mdw_data, schema=mdw_schema)\n",
    "mdw.show()\n",
    "deactivated_products_df = spark.createDataFrame(deactivated_products, schema=sku_uuid_schema)\n",
    "deactivated_products_df.show()"
   ]
  },
  {
   "cell_type": "code",
   "execution_count": 7,
   "metadata": {},
   "outputs": [
    {
     "name": "stdout",
     "output_type": "stream",
     "text": [
      "Combining dfs\n"
     ]
    }
   ],
   "source": [
    "from deactivator import Match_Deactivator\n",
    "\n",
    "match_deactivator = Match_Deactivator(mdw, deactivated_products_df)\n",
    "deactivated_matches = match_deactivator.fetch_deactivate_matches()"
   ]
  },
  {
   "cell_type": "code",
   "execution_count": 8,
   "metadata": {},
   "outputs": [
    {
     "name": "stdout",
     "output_type": "stream",
     "text": [
      "+--------------------+--------------------+--------------------+---------------+-----------------+-----------+-------------------+--------------------+--------------------+--------------------+--------------------+\n",
      "|       base_sku_uuid|             pair_id|   base_source_store|  comp_sku_uuid|comp_source_store|seller_type|bungee_audit_status|           misc_info|      bungee_auditor|        updated_date|          updated_by|\n",
      "+--------------------+--------------------+--------------------+---------------+-----------------+-----------+-------------------+--------------------+--------------------+--------------------+--------------------+\n",
      "|5<>homedepot<>hom...|5<>homedepot<>hom...|homedepot<>homedepot|    i<>bcg<>bcg|         bcg<>bcg|         1P|        deactivated|deactivated_base_...|match_management_...|match_management_...|2023-12-11 17:53:...|\n",
      "|5<>homedepot<>hom...|5<>homedepot<>hom...|homedepot<>homedepot|    j<>bcg<>bcg|         bcg<>bcg|         3P|        deactivated|deactivated_base_...|match_management_...|match_management_...|2023-12-11 17:53:...|\n",
      "|2<>homedepot<>hom...|2<>homedepot<>hom...|homedepot<>homedepot|    b<>bcg<>bcg|         bcg<>bcg|         1P|        deactivated|deactivated_comp_...|match_management_...|match_management_...|2023-12-11 17:53:...|\n",
      "|11<>homedepot<>ho...|11<>homedepot<>ho...|homedepot<>homedepot|    k<>bcg<>bcg|         bcg<>bcg|         1P|        deactivated|deactivated_comp_...|match_management_...|match_management_...|2023-12-11 17:53:...|\n",
      "|12<>homedepot<>ho...|12<>homedepot<>ho...|homedepot<>homedepot|    k<>bcg<>bcg|         bcg<>bcg|         3P|        deactivated|deactivated_comp_...|match_management_...|match_management_...|2023-12-11 17:53:...|\n",
      "|4<>petcarerx<>pet...|4<>petcarerx<>pet...|petcarerx<>petcarerx|d<>chewy<>chewy|     chewy<>chewy|         3P|        deactivated|deactivated_comp_...|match_management_...|match_management_...|2023-12-11 17:53:...|\n",
      "|3<>homedepot<>hom...|3<>homedepot<>hom...|homedepot<>homedepot|    c<>bcg<>bcg|         bcg<>bcg|         3P|        deactivated|deactivated_comp_...|match_management_...|match_management_...|2023-12-11 17:53:...|\n",
      "|1<>homedepot<>hom...|1<>homedepot<>hom...|homedepot<>homedepot|    a<>bcg<>bcg|         bcg<>bcg|         1P|        deactivated|deactivated_comp_...|match_management_...|match_management_...|2023-12-11 17:53:...|\n",
      "+--------------------+--------------------+--------------------+---------------+-----------------+-----------+-------------------+--------------------+--------------------+--------------------+--------------------+\n",
      "\n"
     ]
    }
   ],
   "source": [
    "deactivated_matches.show()"
   ]
  }
 ],
 "metadata": {
  "kernelspec": {
   "display_name": "deltarun",
   "language": "python",
   "name": "python3"
  },
  "language_info": {
   "codemirror_mode": {
    "name": "ipython",
    "version": 3
   },
   "file_extension": ".py",
   "mimetype": "text/x-python",
   "name": "python",
   "nbconvert_exporter": "python",
   "pygments_lexer": "ipython3",
   "version": "3.9.13"
  }
 },
 "nbformat": 4,
 "nbformat_minor": 2
}

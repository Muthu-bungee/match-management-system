{
 "cells": [
  {
   "cell_type": "code",
   "execution_count": 1,
   "metadata": {},
   "outputs": [],
   "source": [
    "from pyspark.sql import DataFrame, Row\n",
    "from functools import reduce\n",
    "from pyspark.sql.types import *\n",
    "from pyspark.sql.functions import *\n",
    "from graphframes import *\n",
    "from pyspark import SparkContext\n",
    "from pyspark import SparkConf\n",
    "from pyspark.sql import SQLContext\n",
    "import uuid"
   ]
  },
  {
   "cell_type": "code",
   "execution_count": 2,
   "metadata": {},
   "outputs": [
    {
     "name": "stderr",
     "output_type": "stream",
     "text": [
      "23/12/06 20:06:02 WARN Utils: Your hostname, preacher resolves to a loopback address: 127.0.1.1; using 192.168.1.6 instead (on interface enp4s0)\n",
      "23/12/06 20:06:02 WARN Utils: Set SPARK_LOCAL_IP if you need to bind to another address\n",
      "WARNING: An illegal reflective access operation has occurred\n",
      "WARNING: Illegal reflective access by org.apache.spark.unsafe.Platform (file:/home/preacher/anaconda3/envs/deltarun/lib/python3.9/site-packages/pyspark/jars/spark-unsafe_2.12-3.2.1.jar) to constructor java.nio.DirectByteBuffer(long,int)\n",
      "WARNING: Please consider reporting this to the maintainers of org.apache.spark.unsafe.Platform\n",
      "WARNING: Use --illegal-access=warn to enable warnings of further illegal reflective access operations\n",
      "WARNING: All illegal access operations will be denied in a future release\n",
      "Using Spark's default log4j profile: org/apache/spark/log4j-defaults.properties\n",
      "Setting default log level to \"WARN\".\n",
      "To adjust logging level use sc.setLogLevel(newLevel). For SparkR, use setLogLevel(newLevel).\n",
      "23/12/06 20:06:02 WARN NativeCodeLoader: Unable to load native-hadoop library for your platform... using builtin-java classes where applicable\n",
      "/home/preacher/anaconda3/envs/deltarun/lib/python3.9/site-packages/pyspark/sql/context.py:77: FutureWarning: Deprecated in 3.0.0. Use SparkSession.builder.getOrCreate() instead.\n",
      "  warnings.warn(\n"
     ]
    }
   ],
   "source": [
    "conf=SparkConf()\n",
    "conf.set(\"spark.executor.memory\", \"2g\")\n",
    "conf.set(\"spark.driver.memory\", \"12g\")\n",
    "conf.set(\"spark.cores.max\", \"6\")\n",
    "\n",
    "sc = SparkContext.getOrCreate(conf)\n",
    "\n",
    "spark = SQLContext(sc)"
   ]
  },
  {
   "cell_type": "code",
   "execution_count": null,
   "metadata": {},
   "outputs": [],
   "source": []
  },
  {
   "cell_type": "code",
   "execution_count": 3,
   "metadata": {},
   "outputs": [],
   "source": [
    "match_schema = StructType([\n",
    "    StructField(\"pair_id\", StringType(), True),\n",
    "    StructField(\"sku_uuid_a\", StringType(), True),\n",
    "    StructField(\"base_source_store\", StringType(), True),\n",
    "    StructField(\"sku_uuid_b\", StringType(), True),\n",
    "    StructField(\"comp_source_store\", StringType(), True),\n",
    "    StructField(\"score\", DoubleType(), True),\n",
    "    StructField(\"segment\", StringType(), True),\n",
    "    StructField(\"seller_type\", StringType(), True),\n",
    "    StructField(\"year\", StringType(), True),\n",
    "    StructField(\"month\", StringType(), True),\n",
    "    StructField(\"day\", StringType(), True),\n",
    "    StructField(\"run_number\", StringType(), True),\n",
    "    StructField(\"source\", StringType(), True),\n",
    "])\n"
   ]
  },
  {
   "cell_type": "code",
   "execution_count": 4,
   "metadata": {},
   "outputs": [],
   "source": [
    "upc_match = [\n",
    "    [\"0000346280418<>203359001<>homedepot<>homedepot_346280418<>g4103325<>bcg<>bcg\", \"0000346280418<>203359001<>homedepot<>homedepot\",\"homedepot<>homedepot\",\"346280418<>g4103325<>bcg<>bcg\", \"bcg<>bcg\",1.0,\"pets\",\"1P\",\"2023\",\"07\",\"17\", \"01\",\"UPC\"],\n",
    "    [\"0000346318654<>100341666<>homedepot<>homedepot_000346318654<>109589<>hdsupplysolutions<>hdsupplysolutions\",\"0000346318654<>100341666<>homedepot<>homedepot\", \"homedepot<>homedepot\",\"000346318654<>109589<>hdsupplysolutions<>hdsupplysolutions\", \"hdsupplysolutions<>hdsupplysolutions\",1.0,\"pets\",\"1P\",\"2023\",\"07\",\"17\", \"01\",\"UPC\"],\n",
    "    [\"0000346378252<>203370169<>homedepot<>homedepot_000346378252<>967446<>hdsupplysolutions<>hdsupplysolutions\", \"0000346378252<>203370169<>homedepot<>homedepot\", \"homedepot<>homedepot\",\"000346378252<>967446<>hdsupplysolutions<>hdsupplysolutions\",\"hdsupplysolutions<>hdsupplysolutions\",1.0,\"pets\",\"1P\",\"2023\",\"07\",\"17\", \"01\",\"UPC\"],\n",
    "    [\"0000346383867<>100670057<>homedepot<>homedepot_000346383867<>967493<>hdsupplysolutions<>hdsupplysolutions\", \"0000346383867<>100670057<>homedepot<>homedepot\", \"homedepot<>homedepot\",\"000346383867<>967493<>hdsupplysolutions<>hdsupplysolutions\",\"hdsupplysolutions<>hdsupplysolutions\",1.0,\"pets\",\"1P\",\"2023\",\"07\",\"17\", \"01\",\"UPC\"],\n",
    "    [\"00003463186541<>100341666<>homedepot<>homedepot_000346318654<>109589<>hdsupplysolutions<>hdsupplysolutions\", \"00003463186541<>100341666<>homedepot<>homedepot\", \"homedepot<>homedepot\",\"000346318654<>109589<>hdsupplysolutions<>hdsupplysolutions\",\"hdsupplysolutions<>hdsupplysolutions\",1.0,\"pets\",\"1P\",\"2023\",\"07\",\"17\", \"01\",\"UPC\"], # > 0.05\n",
    "    [\"0000000000001<>53409<>petcarerx<>petcarerx_00000432<>147664<>chewy<>chewy\", \"0000000000001<>53409<>petcarerx<>petcarerx\",\"petcarerx<>petcarerx\",\"00000432<>147664<>chewy<>chewy\", \"chewy<>chewy\",1.0,\"pets\",\"1P\",\"2023\",\"07\",\"17\", \"01\",\"UPC\"], # appended one old not present\n",
    "    [\"0000000000001<>53409<>petcarerx<>petcarerx_00000000<>147664<>chewy<>chewy\", \"0000000000001<>53409<>petcarerx<>petcarerx\",\"petcarerx<>petcarerx\",\"00000000<>147664<>chewy<>chewy\", \"chewy<>chewy\",1.0,\"pets\",\"1P\",\"2023\",\"07\",\"17\", \"01\",\"UPC\"], # appended\n",
    "    [\"00003463186541<>100341666<>homedepot<>homedepot_0003463186541<>109589<>hdsupplysolutions<>hdsupplysolutions\",\"00003463186541<>100341666<>homedepot<>homedepot\", \"homedepot<>homedepot\",\"0003463186541<>109589<>hdsupplysolutions<>hdsupplysolutions\", \"hdsupplysolutions<>hdsupplysolutions\",1.0,\"pets\",\"1P\",\"2023\",\"07\",\"17\", \"01\",\"UPC\"], # > 0.05 + added\n",
    "]"
   ]
  },
  {
   "cell_type": "code",
   "execution_count": 5,
   "metadata": {},
   "outputs": [],
   "source": [
    "mpn_match = [\n",
    "    [\"0000346280418<>203359001<>homedepot<>homedepot_346280418<>g4103325<>bcg<>bcg\",\"0000346280418<>203359001<>homedepot<>homedepot\", \"homedepot<>homedepot\",\"346280418<>g4103325<>bcg<>bcg\", \"bcg<>bcg\",1.0,\"pets\",\"1P\",\"2023\",\"07\",\"17\", \"01\",\"MPN\"],\n",
    "    [\"0000346318654<>100341666<>homedepot<>homedepot_000346318654<>109589<>hdsupplysolutions<>hdsupplysolutions\",\"0000346318654<>100341666<>homedepot<>homedepot\", \"homedepot<>homedepot\",\"000346318654<>109589<>hdsupplysolutions<>hdsupplysolutions\", \"hdsupplysolutions<>hdsupplysolutions\",1.0,\"pets\",\"1P\",\"2023\",\"07\",\"17\", \"01\",\"MPN\"],\n",
    "    [\"0000346383843<>202080350<>homedepot<>homedepot_346383843<>g1969694<>bcg<>bcg\",\"0000346383843<>202080350<>homedepot<>homedepot\", \"homedepot<>homedepot\",\"346383843<>g1969694<>bcg<>bcg\", \"bcg<>bcg\",1.0,\"pets\",\"1P\",\"2023\",\"07\",\"17\", \"01\",\"MPN\"],\n",
    "    [\"0000346392418<>204823270<>homedepot<>homedepot_000346392418<>453560<>hdsupplysolutions<>hdsupplysolutions\",\"0000346392418<>204823270<>homedepot<>homedepot\", \"homedepot<>homedepot\",\"000346392418<>453560<>hdsupplysolutions<>hdsupplysolutions\", \"hdsupplysolutions<>hdsupplysolutions\",1.0,\"pets\",\"1P\",\"2023\",\"07\",\"17\", \"01\",\"MPN\"],\n",
    "    [\"00003463782521<>203370169<>homedepot<>homedepot_000346378252<>967446<>hdsupplysolutions<>hdsupplysolutions\",\"00003463782521<>203370169<>homedepot<>homedepot\", \"homedepot<>homedepot\",\"000346378252<>967446<>hdsupplysolutions<>hdsupplysolutions\", \"hdsupplysolutions<>hdsupplysolutions\",1.0,\"pets\",\"1P\",\"2023\",\"07\",\"17\", \"01\",\"MPN\"], # < 0.05\n",
    "    [\"00003463782521<>203370169<>homedepot<>homedepot_000346378252<>9674462<>hdsupplysolutions<>hdsupplysolutions\",\"00003463782521<>203370169<>homedepot<>homedepot\", \"homedepot<>homedepot\",\"000346378252<>9674462<>hdsupplysolutions<>hdsupplysolutions\", \"hdsupplysolutions<>hdsupplysolutions\",1.0,\"pets\",\"1P\",\"2023\",\"07\",\"17\", \"01\",\"MPN\"], # < 0.05 + added\n",
    "    [\"0000000000001<>53409<>petcarerx<>petcarerx_00000000<>147664<>chewy<>chewy\",\"0000000000001<>53409<>petcarerx<>petcarerx\", \"petcarerx<>petcarerx\",\"00000000<>147664<>chewy<>chewy\", \"chewy<>chewy\",1.0,\"pets\",\"1P\",\"2023\",\"07\",\"17\", \"01\",\"MPN\"], # appended\n",
    "]"
   ]
  },
  {
   "cell_type": "code",
   "execution_count": 6,
   "metadata": {},
   "outputs": [],
   "source": [
    "ml_data = [\n",
    "    [\"0000346280418<>203359001<>homedepot<>homedepot_346280418<>g4103325<>bcg<>bcg\",\"0000346280418<>203359001<>homedepot<>homedepot\", \"homedepot<>homedepot\",\"346280418<>g4103325<>bcg<>bcg\", \"bcg<>bcg\",0.987,\"pets\",\"1P\",\"2023\",\"07\",\"17\", \"01\",\"ML\"],\n",
    "    [\"0000346378252<>203370169<>homedepot<>homedepot_000346378252<>967446<>hdsupplysolutions<>hdsupplysolutions\",\"0000346378252<>203370169<>homedepot<>homedepot\", \"homedepot<>homedepot\",\"000346378252<>967446<>hdsupplysolutions<>hdsupplysolutions\", \"hdsupplysolutions<>hdsupplysolutions\",0.876,\"pets\",\"1P\",\"2023\",\"07\",\"17\", \"01\",\"ML\"],\n",
    "    [\"0000346383843<>202080350<>homedepot<>homedepot_346383843<>g1969694<>bcg<>bcg\",\"0000346383843<>202080350<>homedepot<>homedepot\", \"homedepot<>homedepot\",\"346383843<>g1969694<>bcg<>bcg\", \"bcg<>bcg\",0.567,\"pets\",\"1P\",\"2023\",\"07\",\"17\", \"01\",\"ML\"],\n",
    "    [\"000000000000<>53409<>petcarerx<>petcarerx_000000000000<>53417<>petcarerx<>petcarerx\",\"000000000000<>53409<>petcarerx<>petcarerx\", \"petcarerx<>petcarerx\",\"000000000000<>53417<>petcarerx<>petcarerx\", \"petcarerx<>petcarerx\",0.8737,\"pets\",\"1P\",\"2023\",\"07\",\"17\", \"01\",\"ML\"],\n",
    "    [\"00003463186541<>100341666<>homedepot<>homedepot_000346318654<>109589<>hdsupplysolutions<>hdsupplysolutions\",\"00003463186541<>100341666<>homedepot<>homedepot\", \"homedepot<>homedepot\",\"000346318654<>109589<>hdsupplysolutions<>hdsupplysolutions\", \"hdsupplysolutions<>hdsupplysolutions\",0.8737,\"pets\",\"1P\",\"2023\",\"07\",\"17\", \"01\",\"ML\"], # > 0.05\n",
    "    [\"00003463186541<>100341666<>homedepot<>homedepot_0003463186541<>109589<>hdsupplysolutions<>hdsupplysolutions\",\"00003463186541<>100341666<>homedepot<>homedepot\", \"homedepot<>homedepot\",\"0003463186541<>109589<>hdsupplysolutions<>hdsupplysolutions\", \"hdsupplysolutions<>hdsupplysolutions\",0.8737,\"pets\",\"1P\",\"2023\",\"07\",\"17\", \"01\",\"ML\"], # > 0.05 + added\n",
    "    [\"00003463782521<>203370169<>homedepot<>homedepot_000346378252<>967446<>hdsupplysolutions<>hdsupplysolutions\",\"00003463782521<>203370169<>homedepot<>homedepot\", \"homedepot<>homedepot\",\"000346378252<>967446<>hdsupplysolutions<>hdsupplysolutions\", \"hdsupplysolutions<>hdsupplysolutions\",0.943,\"pets\",\"1P\",\"2023\",\"07\",\"17\", \"01\",\"ML\"], # < 0.05\n",
    "    [\"00003463782521<>203370169<>homedepot<>homedepot_000346378252<>9674462<>hdsupplysolutions<>hdsupplysolutions\",\"00003463782521<>203370169<>homedepot<>homedepot\", \"homedepot<>homedepot\",\"000346378252<>9674462<>hdsupplysolutions<>hdsupplysolutions\", \"hdsupplysolutions<>hdsupplysolutions\",0.943,\"pets\",\"1P\",\"2023\",\"07\",\"17\", \"01\",\"ML\"], # < 0.05 + added\n",
    "]"
   ]
  },
  {
   "cell_type": "code",
   "execution_count": 7,
   "metadata": {},
   "outputs": [],
   "source": [
    "transitive_data = [\n",
    "    [\"0000346318654<>100341666<>homedepot<>homedepot_000346318654<>109589<>hdsupplysolutions<>hdsupplysolutions\", \"0000346318654<>100341666<>homedepot<>homedepot\",\"homedepot<>homedepot\",\"000346318654<>109589<>hdsupplysolutions<>hdsupplysolutions\", \"hdsupplysolutions<>hdsupplysolutions\",1.0,\"pets\",\"1P\",\"2023\",\"07\",\"17\", \"01\",\"TRANSITIVE\"],\n",
    "    [\"0000346378252<>203370169<>homedepot<>homedepot_000346378252<>967446<>hdsupplysolutions<>hdsupplysolutions\", \"0000346378252<>203370169<>homedepot<>homedepot\",\"homedepot<>homedepot\",\"000346378252<>967446<>hdsupplysolutions<>hdsupplysolutions\", \"hdsupplysolutions<>hdsupplysolutions\",1.0,\"pets\",\"1P\",\"2023\",\"07\",\"17\", \"01\",\"TRANSITIVE\"],\n",
    "    [\"0000346383843<>202080350<>homedepot<>homedepot_346383843<>g1969694<>bcg<>bcg\", \"0000346383843<>202080350<>homedepot<>homedepot\",\"homedepot<>homedepot\",\"346383843<>g1969694<>bcg<>bcg\", \"bcg<>bcg\",1.0,\"pets\",\"1P\",\"2023\",\"07\",\"17\", \"01\",\"TRANSITIVE\"],\n",
    "    [\"000000000000<>53409<>petcarerx<>petcarerx_00000000<>147664<>chewy<>chewy\", \"000000000000<>53409<>petcarerx<>petcarerx\",\"petcarerx<>petcarerx\",\"00000000<>147664<>chewy<>chewy\", \"chewy<>chewy\",1.0,\"pets\",\"1P\",\"2023\",\"07\",\"17\", \"01\",\"TRANSITIVE\"],\n",
    "    [\"00003463782521<>203370169<>homedepot<>homedepot_000346378252<>9674462<>hdsupplysolutions<>hdsupplysolutions\", \"00003463782521<>203370169<>homedepot<>homedepot\",\"homedepot<>homedepot\",\"000346378252<>9674462<>hdsupplysolutions<>hdsupplysolutions\", \"hdsupplysolutions<>hdsupplysolutions\",1.0,\"pets\",\"1P\",\"2023\",\"07\",\"17\", \"01\",\"TRANSITIVE\"], # < 0.05 + added\n",
    "    [\"0000000000001<>53409<>petcarerx<>petcarerx_00000123<>147664<>chewy<>chewy\", \"0000000000001<>53409<>petcarerx<>petcarerx\",\"petcarerx<>petcarerx\",\"00000123<>147664<>chewy<>chewy\", \"chewy<>chewy\",1.0,\"pets\",\"1P\",\"2023\",\"07\",\"17\", \"01\",\"TRANSITIVE\"], # added\n",
    "    [\"0000000000001<>53409<>petcarerx<>petcarerx_00000432<>147664<>chewy<>chewy\", \"0000000000001<>53409<>petcarerx<>petcarerx\",\"petcarerx<>petcarerx\",\"00000432<>147664<>chewy<>chewy\", \"chewy<>chewy\",1.0,\"pets\",\"1P\",\"2023\",\"07\",\"17\", \"01\",\"TRANSITIVE\"], # appended one old not present\n",
    "    [\"0000000000001<>53409<>petcarerx<>petcarerx_00000000<>147664<>chewy<>chewy\", \"0000000000001<>53409<>petcarerx<>petcarerx\",\"petcarerx<>petcarerx\",\"00000000<>147664<>chewy<>chewy\", \"chewy<>chewy\",1.0,\"pets\",\"1P\",\"2023\",\"07\",\"17\", \"01\",\"TRANSITIVE\"], # appended\n",
    "]"
   ]
  },
  {
   "cell_type": "code",
   "execution_count": 8,
   "metadata": {},
   "outputs": [],
   "source": [
    "mdw_schema = StructType([\n",
    "    StructField(\"pair_id\", StringType(), True),\n",
    "    StructField(\"base_sku_uuid\", StringType(), True),\n",
    "    StructField(\"base_source_store\", StringType(), True),\n",
    "    StructField(\"comp_sku_uuid\", StringType(), True),\n",
    "    StructField(\"comp_source_store\", StringType(), True),\n",
    "    StructField(\"segment\", StringType(), True),\n",
    "    StructField(\"match_source_score_map\", MapType(StringType(), DoubleType()), True),\n",
    "    StructField(\"aggregated_score\", DoubleType(), True),\n",
    "    StructField(\"seller_type\", StringType(), True),\n",
    "])"
   ]
  },
  {
   "cell_type": "code",
   "execution_count": 9,
   "metadata": {},
   "outputs": [],
   "source": [
    "mdw_data = [\n",
    "    [\"00003463186541<>100341666<>homedepot<>homedepot_000346318654<>109589<>hdsupplysolutions<>hdsupplysolutions\", \"00003463186541<>100341666<>homedepot<>homedepot\",\"homedepot<>homedepot\",\"000346318654<>109589<>hdsupplysolutions<>hdsupplysolutions\",\"hdsupplysolutions<>hdsupplysolutions\",\"pets\",{\"ML\": 0.745, \"UPC\": 1.0},1.745,\"1P\"], # > 0.05\n",
    "    [\"00003463186541<>100341666<>homedepot<>homedepot_0003463186541<>109589<>hdsupplysolutions<>hdsupplysolutions\", \"00003463186541<>100341666<>homedepot<>homedepot\",\"homedepot<>homedepot\",\"0003463186541<>109589<>hdsupplysolutions<>hdsupplysolutions\",\"hdsupplysolutions<>hdsupplysolutions\",\"pets\",{\"ML\": 0.745, \"MPN\": 1.0},1.745,\"1P\"], # > 0.05 + added\n",
    "    [\"00003463782521<>203370169<>homedepot<>homedepot_000346378252<>967446<>hdsupplysolutions<>hdsupplysolutions\", \"00003463782521<>203370169<>homedepot<>homedepot\",\"homedepot<>homedepot\",\"000346378252<>967446<>hdsupplysolutions<>hdsupplysolutions\",\"hdsupplysolutions<>hdsupplysolutions\",\"pets\",{\"ML\": 0.945, \"MPN\": 1.0},1.945,\"1P\"], # < 0.05\n",
    "    [\"00003463782521<>203370169<>homedepot<>homedepot_000346378252<>9674462<>hdsupplysolutions<>hdsupplysolutions\", \"00003463782521<>203370169<>homedepot<>homedepot\",\"homedepot<>homedepot\",\"000346378252<>9674462<>hdsupplysolutions<>hdsupplysolutions\",\"hdsupplysolutions<>hdsupplysolutions\",\"pets\",{\"ML\": 0.945, \"MPN\": 1.0},1.945,\"1P\"], # < 0.05 + added\n",
    "    [\"00003463838431<>202080350<>homedepot<>homedepot_346383843<>g1969694<>bcg<>bcg\", \"00003463838431<>202080350<>homedepot<>homedepot\",\"homedepot<>homedepot\",\"346383843<>g1969694<>bcg<>bcg\",\"bcg<>bcg\",\"pets\", {\"UPC\": 1.0, \"MPN\": 1.0},2.0,\"1P\"], # not added\n",
    "    [\"0000000000001<>53409<>petcarerx<>petcarerx_00000000<>147664<>chewy<>chewy\", \"0000000000001<>53409<>petcarerx<>petcarerx\",\"petcarerx<>petcarerx\",\"00000000<>147664<>chewy<>chewy\",\"chewy<>chewy\",\"pets\", {\"UPC\": 1.0, \"MPN\": 1.0},2.0,\"1P\"], # appended\n",
    "    [\"0000000000001<>53409<>petcarerx<>petcarerx_00000432<>147664<>chewy<>chewy\", \"0000000000001<>53409<>petcarerx<>petcarerx\",\"petcarerx<>petcarerx\",\"00000432<>147664<>chewy<>chewy\",\"chewy<>chewy\",\"pets\", {\"UPC\": 1.0, \"MPN\": 1.0},2.0,\"1P\"], # appended one old not present\n",
    "    [\"0000000000001<>53409<>petcarerx<>petcarerx_00000123<>147664<>chewy<>chewy\", \"0000000000001<>53409<>petcarerx<>petcarerx\",\"petcarerx<>petcarerx\",\"00000123<>147664<>chewy<>chewy\",\"chewy<>chewy\",\"pets\", {\"UPC\": 1.0, \"MPN\": 1.0},2.0,\"1P\"], # added\n",
    "]"
   ]
  },
  {
   "cell_type": "code",
   "execution_count": 23,
   "metadata": {},
   "outputs": [],
   "source": [
    "New = [\n",
    "[\"0000346280418<>203359001<>homedepot<>homedepot_346280418<>g4103325<>bcg<>bcg\", \"0000346280418<>203359001<>homedepot<>homedepot\",\"homedepot<>homedepot\",\"346280418<>g4103325<>bcg<>bcg\", \"bcg<>bcg\",{\"UPC\": 1.0, \"MPN\":1.0, \"ML\": 0.987},\"pets\",\"1P\"],\n",
    "[\"0000346318654<>100341666<>homedepot<>homedepot_000346318654<>109589<>hdsupplysolutions<>hdsupplysolutions\",\"hdsupplysolutions<>hdsupplysolutions\", \"0000346318654<>100341666<>homedepot<>homedepot\", \"homedepot<>homedepot\",\"000346318654<>109589<>hdsupplysolutions<>hdsupplysolutions\",{\"UPC\": 1.0, \"MPN\":1.0, \"TRANSITIVE\": 1.0},\"pets\",\"1P\"],\n",
    "[\"0000346378252<>203370169<>homedepot<>homedepot_000346378252<>967446<>hdsupplysolutions<>hdsupplysolutions\",\"hdsupplysolutions<>hdsupplysolutions\", \"0000346378252<>203370169<>homedepot<>homedepot\", \"homedepot<>homedepot\",\"000346378252<>967446<>hdsupplysolutions<>hdsupplysolutions\",{\"UPC\": 1.0, \"TRANSITIVE\":1.0, \"ML\" : 0.876},\"pets\",\"1P\"],\n",
    "[\"0000346383867<>100670057<>homedepot<>homedepot_000346383867<>967493<>hdsupplysolutions<>hdsupplysolutions\",\"hdsupplysolutions<>hdsupplysolutions\", \"0000346383867<>100670057<>homedepot<>homedepot\", \"homedepot<>homedepot\",\"000346383867<>967493<>hdsupplysolutions<>hdsupplysolutions\",{\"UPC\": 1.0},\"pets\",\"1P\"],\n",
    "[\"0000346383843<>202080350<>homedepot<>homedepot_346383843<>g1969694<>bcg<>bcg\",\"0000346383843<>202080350<>homedepot<>homedepot\", \"homedepot<>homedepot\",\"346383843<>g1969694<>bcg<>bcg\", \"bcg<>bcg\",{\"MPN\": 1.0, \"TRANSITIVE\":1.0, \"ML\" : 0.567},\"pets\",\"1P\"],\n",
    "[\"0000346392418<>204823270<>homedepot<>homedepot_000346392418<>453560<>hdsupplysolutions<>hdsupplysolutions\",\"0000346392418<>204823270<>homedepot<>homedepot\", \"homedepot<>homedepot\",\"000346392418<>453560<>hdsupplysolutions<>hdsupplysolutions\", \"hdsupplysolutions<>hdsupplysolutions\",{\"MPN\": 1.0},\"pets\",\"1P\"],\n",
    "[\"000000000000<>53409<>petcarerx<>petcarerx_000000000000<>53417<>petcarerx<>petcarerx\",\"000000000000<>53409<>petcarerx<>petcarerx\", \"petcarerx<>petcarerx\",\"000000000000<>53417<>petcarerx<>petcarerx\", \"petcarerx<>petcarerx\",{\"ML\": 0.8737},\"pets\",\"1P\"],\n",
    "[\"000000000000<>53409<>petcarerx<>petcarerx_00000000<>147664<>chewy<>chewy\", \"000000000000<>53409<>petcarerx<>petcarerx\",\"petcarerx<>petcarerx\",\"00000000<>147664<>chewy<>chewy\", \"chewy<>chewy\",{\"TRANSITIVE\":1.0},\"pets\",\"1P\"],\n",
    "]\n",
    "update = [\n",
    "[\"00003463186541<>100341666<>homedepot<>homedepot_000346318654<>109589<>hdsupplysolutions<>hdsupplysolutions\",\"hdsupplysolutions<>hdsupplysolutions\", \"00003463186541<>100341666<>homedepot<>homedepot\", \"homedepot<>homedepot\",\"000346318654<>109589<>hdsupplysolutions<>hdsupplysolutions\",{\"UPC\": 1.0, \"ML\": 0.8737},\"pets\",\"1P\"], # > 0.05\n",
    "[\"0000000000001<>53409<>petcarerx<>petcarerx_00000432<>147664<>chewy<>chewy\", \"0000000000001<>53409<>petcarerx<>petcarerx\",\"petcarerx<>petcarerx\",\"00000432<>147664<>chewy<>chewy\", \"chewy<>chewy\",{\"UPC\": 1.0, \"TRANSITIVE\": 1.0, \"MPN\": 1.0},\"pets\",\"1P\"], # appended one old not present\n",
    "[\"0000000000001<>53409<>petcarerx<>petcarerx_00000000<>147664<>chewy<>chewy\", \"0000000000001<>53409<>petcarerx<>petcarerx\",\"petcarerx<>petcarerx\",\"00000000<>147664<>chewy<>chewy\", \"chewy<>chewy\",{\"UPC\": 1.0, \"MPN\":1.0, \"TRANSITIVE\": 1.0},\"pets\",\"1P\"], # appended\n",
    "[\"00003463186541<>100341666<>homedepot<>homedepot_0003463186541<>109589<>hdsupplysolutions<>hdsupplysolutions\",\"00003463186541<>100341666<>homedepot<>homedepot\", \"homedepot<>homedepot\",\"0003463186541<>109589<>hdsupplysolutions<>hdsupplysolutions\", \"hdsupplysolutions<>hdsupplysolutions\",{\"UPC\": 1.0, \"ML\": 0.8737, \"MPN\": 1.0},\"pets\",\"1P\"], # > 0.05 + added\n",
    "[\"00003463782521<>203370169<>homedepot<>homedepot_000346378252<>9674462<>hdsupplysolutions<>hdsupplysolutions\", \"00003463782521<>203370169<>homedepot<>homedepot\",\"homedepot<>homedepot\",\"000346378252<>9674462<>hdsupplysolutions<>hdsupplysolutions\", \"hdsupplysolutions<>hdsupplysolutions\",{\"MPN\": 1.0, \"ML\": 0.945, \"TRANSITIVE\": 1.0},\"pets\",\"1P\"], # < 0.05 + added\n",
    "[\"0000000000001<>53409<>petcarerx<>petcarerx_00000123<>147664<>chewy<>chewy\", \"0000000000001<>53409<>petcarerx<>petcarerx\",\"petcarerx<>petcarerx\",\"00000123<>147664<>chewy<>chewy\", \"chewy<>chewy\",{\"TRANSITIVE\":1.0,\"UPC\": 1.0, \"MPN\": 1.0}, \"pets\",\"1P\"], # added\n",
    "]\n",
    "rejected = [\n",
    "    [\"00003463782521<>203370169<>homedepot<>homedepot_000346378252<>967446<>hdsupplysolutions<>hdsupplysolutions\",\"00003463782521<>203370169<>homedepot<>homedepot\", \"homedepot<>homedepot\",\"000346378252<>967446<>hdsupplysolutions<>hdsupplysolutions\", \"hdsupplysolutions<>hdsupplysolutions\",{\"MPN\": 1.0, \"ML\": 0.945},\"pets\",\"1P\"] # < 0.05\n",
    "]\n"
   ]
  },
  {
   "cell_type": "code",
   "execution_count": null,
   "metadata": {},
   "outputs": [],
   "source": []
  },
  {
   "cell_type": "code",
   "execution_count": 11,
   "metadata": {},
   "outputs": [],
   "source": [
    "mdw = spark.createDataFrame(mdw_data, schema=mdw_schema)"
   ]
  },
  {
   "cell_type": "code",
   "execution_count": 12,
   "metadata": {},
   "outputs": [],
   "source": [
    "ml_match_suggestion = df = spark.createDataFrame(ml_data, schema=match_schema)\n",
    "upc_match_suggestion = spark.createDataFrame(upc_match, schema=match_schema)\n",
    "mpn_match_suggestion = spark.createDataFrame(mpn_match, schema=match_schema)\n",
    "transitive_match_suggestion = spark.createDataFrame(transitive_data, schema=match_schema)\n"
   ]
  },
  {
   "cell_type": "code",
   "execution_count": 13,
   "metadata": {},
   "outputs": [
    {
     "name": "stdout",
     "output_type": "stream",
     "text": [
      "Combining dfs\n"
     ]
    }
   ],
   "source": [
    "from aggregator import Aggregator\n",
    "aggregator = Aggregator(ml_match_suggestion,\n",
    "upc_match_suggestion,\n",
    "mpn_match_suggestion,\n",
    "transitive_match_suggestion,\n",
    "mdw)"
   ]
  },
  {
   "cell_type": "code",
   "execution_count": 14,
   "metadata": {},
   "outputs": [],
   "source": [
    "merged_matches = aggregator.merged_match_suggestion\n",
    "mdw = aggregator.mdw"
   ]
  },
  {
   "cell_type": "code",
   "execution_count": 15,
   "metadata": {},
   "outputs": [
    {
     "name": "stdout",
     "output_type": "stream",
     "text": [
      "root\n",
      " |-- pair_id: string (nullable = true)\n",
      " |-- sku_uuid_a: string (nullable = true)\n",
      " |-- new_base_source_store: string (nullable = true)\n",
      " |-- sku_uuid_b: string (nullable = true)\n",
      " |-- new_comp_source_store: string (nullable = true)\n",
      " |-- new_score: double (nullable = true)\n",
      " |-- new_segment: string (nullable = true)\n",
      " |-- new_seller_type: string (nullable = true)\n",
      " |-- year: string (nullable = true)\n",
      " |-- month: string (nullable = true)\n",
      " |-- day: string (nullable = true)\n",
      " |-- run_number: string (nullable = true)\n",
      " |-- source: string (nullable = true)\n",
      "\n",
      "root\n",
      " |-- pair_id: string (nullable = true)\n",
      " |-- base_sku_uuid: string (nullable = true)\n",
      " |-- base_source_store: string (nullable = true)\n",
      " |-- comp_sku_uuid: string (nullable = true)\n",
      " |-- comp_source_store: string (nullable = true)\n",
      " |-- segment: string (nullable = true)\n",
      " |-- match_source_score_map: map (nullable = true)\n",
      " |    |-- key: string\n",
      " |    |-- value: double (valueContainsNull = true)\n",
      " |-- aggregated_score: double (nullable = true)\n",
      " |-- seller_type: string (nullable = true)\n",
      "\n"
     ]
    }
   ],
   "source": [
    "merged_matches.printSchema()\n",
    "mdw.printSchema()"
   ]
  },
  {
   "cell_type": "code",
   "execution_count": 16,
   "metadata": {},
   "outputs": [
    {
     "name": "stderr",
     "output_type": "stream",
     "text": [
      "                                                                                \r"
     ]
    },
    {
     "name": "stdout",
     "output_type": "stream",
     "text": [
      "+--------------------+------+--------------------+---------------------+--------------------+---------------------+---------+-----------+---------------+----+-----+----+----------+--------------------+---------------------+--------------------+---------------------+-----------+----------------------+----------------+---------------+---------+\n",
      "|             pair_id|source|          sku_uuid_a|new_base_source_store|          sku_uuid_b|new_comp_source_store|new_score|new_segment|new_seller_type|year|month| day|run_number|       base_sku_uuid|old_base_source_store|       comp_sku_uuid|old_comp_source_store|old_segment|match_source_score_map|aggregated_score|old_seller_type|old_score|\n",
      "+--------------------+------+--------------------+---------------------+--------------------+---------------------+---------+-----------+---------------+----+-----+----+----------+--------------------+---------------------+--------------------+---------------------+-----------+----------------------+----------------+---------------+---------+\n",
      "|00003463186541<>1...|    ML|00003463186541<>1...| homedepot<>homedepot|0003463186541<>10...| hdsupplysolutions...|   0.8737|       pets|             1P|2023|   07|  17|        01|00003463186541<>1...| homedepot<>homedepot|0003463186541<>10...| hdsupplysolutions...|       pets|  {MPN -> 1.0, ML -...|           1.745|             1P|    0.745|\n",
      "|00003463186541<>1...|   MPN|                null|                 null|                null|                 null|     null|       null|           null|null| null|null|      null|00003463186541<>1...| homedepot<>homedepot|0003463186541<>10...| hdsupplysolutions...|       pets|  {MPN -> 1.0, ML -...|           1.745|             1P|      1.0|\n",
      "|00003463186541<>1...|   UPC|00003463186541<>1...| homedepot<>homedepot|0003463186541<>10...| hdsupplysolutions...|      1.0|       pets|             1P|2023|   07|  17|        01|                null|                 null|                null|                 null|       null|                  null|            null|           null|     null|\n",
      "+--------------------+------+--------------------+---------------------+--------------------+---------------------+---------+-----------+---------------+----+-----+----+----------+--------------------+---------------------+--------------------+---------------------+-----------+----------------------+----------------+---------------+---------+\n",
      "\n"
     ]
    }
   ],
   "source": [
    "merged_matches = aggregator.aggregate_match_suggestion_and_mdw(mdw, merged_matches)"
   ]
  },
  {
   "cell_type": "code",
   "execution_count": 17,
   "metadata": {},
   "outputs": [
    {
     "name": "stdout",
     "output_type": "stream",
     "text": [
      "+--------------------+----------+---------+----+-----+----+----------+--------------------+--------------------+----------------------+----------------+---------+------+-------+-----------+--------------------+--------------------+------------+\n",
      "|             pair_id|    source|new_score|year|month| day|run_number|       base_sku_uuid|       comp_sku_uuid|match_source_score_map|aggregated_score|old_score| score|segment|seller_type|   base_source_store|   comp_source_store|match_status|\n",
      "+--------------------+----------+---------+----+-----+----+----------+--------------------+--------------------+----------------------+----------------+---------+------+-------+-----------+--------------------+--------------------+------------+\n",
      "|0000000000001<>53...|       MPN|      1.0|2023|   07|  17|        01|0000000000001<>53...|00000000<>147664<...|  {UPC -> 1.0, MPN ...|             2.0|      1.0|   1.0|   pets|         1P|petcarerx<>petcarerx|        chewy<>chewy| not_updated|\n",
      "|0000000000001<>53...|TRANSITIVE|      1.0|2023|   07|  17|        01|0000000000001<>53...|00000000<>147664<...|                  null|            null|     null|   1.0|   pets|         1P|petcarerx<>petcarerx|        chewy<>chewy|         new|\n",
      "|0000000000001<>53...|       UPC|      1.0|2023|   07|  17|        01|0000000000001<>53...|00000000<>147664<...|  {UPC -> 1.0, MPN ...|             2.0|      1.0|   1.0|   pets|         1P|petcarerx<>petcarerx|        chewy<>chewy| not_updated|\n",
      "|0000000000001<>53...|       MPN|     null|null| null|null|      null|0000000000001<>53...|00000123<>147664<...|  {UPC -> 1.0, MPN ...|             2.0|      1.0|   1.0|   pets|         1P|petcarerx<>petcarerx|        chewy<>chewy| not_updated|\n",
      "|0000000000001<>53...|TRANSITIVE|      1.0|2023|   07|  17|        01|0000000000001<>53...|00000123<>147664<...|                  null|            null|     null|   1.0|   pets|         1P|petcarerx<>petcarerx|        chewy<>chewy|         new|\n",
      "|0000000000001<>53...|       UPC|     null|null| null|null|      null|0000000000001<>53...|00000123<>147664<...|  {UPC -> 1.0, MPN ...|             2.0|      1.0|   1.0|   pets|         1P|petcarerx<>petcarerx|        chewy<>chewy| not_updated|\n",
      "|0000000000001<>53...|       MPN|     null|null| null|null|      null|0000000000001<>53...|00000432<>147664<...|  {UPC -> 1.0, MPN ...|             2.0|      1.0|   1.0|   pets|         1P|petcarerx<>petcarerx|        chewy<>chewy| not_updated|\n",
      "|0000000000001<>53...|TRANSITIVE|      1.0|2023|   07|  17|        01|0000000000001<>53...|00000432<>147664<...|                  null|            null|     null|   1.0|   pets|         1P|petcarerx<>petcarerx|        chewy<>chewy|         new|\n",
      "|0000000000001<>53...|       UPC|      1.0|2023|   07|  17|        01|0000000000001<>53...|00000432<>147664<...|  {UPC -> 1.0, MPN ...|             2.0|      1.0|   1.0|   pets|         1P|petcarerx<>petcarerx|        chewy<>chewy| not_updated|\n",
      "|000000000000<>534...|        ML|   0.8737|2023|   07|  17|        01|000000000000<>534...|000000000000<>534...|                  null|            null|     null|0.8737|   pets|         1P|petcarerx<>petcarerx|petcarerx<>petcarerx|         new|\n",
      "|000000000000<>534...|TRANSITIVE|      1.0|2023|   07|  17|        01|000000000000<>534...|00000000<>147664<...|                  null|            null|     null|   1.0|   pets|         1P|petcarerx<>petcarerx|        chewy<>chewy|         new|\n",
      "|0000346280418<>20...|        ML|    0.987|2023|   07|  17|        01|0000346280418<>20...|346280418<>g41033...|                  null|            null|     null| 0.987|   pets|         1P|homedepot<>homedepot|            bcg<>bcg|         new|\n",
      "|0000346280418<>20...|       MPN|      1.0|2023|   07|  17|        01|0000346280418<>20...|346280418<>g41033...|                  null|            null|     null|   1.0|   pets|         1P|homedepot<>homedepot|            bcg<>bcg|         new|\n",
      "|0000346280418<>20...|       UPC|      1.0|2023|   07|  17|        01|0000346280418<>20...|346280418<>g41033...|                  null|            null|     null|   1.0|   pets|         1P|homedepot<>homedepot|            bcg<>bcg|         new|\n",
      "|00003463186541<>1...|        ML|   0.8737|2023|   07|  17|        01|00003463186541<>1...|0003463186541<>10...|  {MPN -> 1.0, ML -...|           1.745|    0.745|0.8737|   pets|         1P|homedepot<>homedepot|hdsupplysolutions...|     updated|\n",
      "|00003463186541<>1...|       MPN|     null|null| null|null|      null|00003463186541<>1...|0003463186541<>10...|  {MPN -> 1.0, ML -...|           1.745|      1.0|   1.0|   pets|         1P|homedepot<>homedepot|hdsupplysolutions...| not_updated|\n",
      "|00003463186541<>1...|       UPC|      1.0|2023|   07|  17|        01|00003463186541<>1...|0003463186541<>10...|                  null|            null|     null|   1.0|   pets|         1P|homedepot<>homedepot|hdsupplysolutions...|         new|\n",
      "|00003463186541<>1...|        ML|   0.8737|2023|   07|  17|        01|00003463186541<>1...|000346318654<>109...|  {UPC -> 1.0, ML -...|           1.745|    0.745|0.8737|   pets|         1P|homedepot<>homedepot|hdsupplysolutions...|     updated|\n",
      "|00003463186541<>1...|       UPC|      1.0|2023|   07|  17|        01|00003463186541<>1...|000346318654<>109...|  {UPC -> 1.0, ML -...|           1.745|      1.0|   1.0|   pets|         1P|homedepot<>homedepot|hdsupplysolutions...| not_updated|\n",
      "|0000346318654<>10...|       MPN|      1.0|2023|   07|  17|        01|0000346318654<>10...|000346318654<>109...|                  null|            null|     null|   1.0|   pets|         1P|homedepot<>homedepot|hdsupplysolutions...|         new|\n",
      "+--------------------+----------+---------+----+-----+----+----------+--------------------+--------------------+----------------------+----------------+---------+------+-------+-----------+--------------------+--------------------+------------+\n",
      "only showing top 20 rows\n",
      "\n"
     ]
    }
   ],
   "source": [
    "merged_matches.show()"
   ]
  },
  {
   "cell_type": "code",
   "execution_count": 18,
   "metadata": {},
   "outputs": [],
   "source": [
    "updated_matches_suggestion, new_matches_suggestion = aggregator.fetch_updated_and_new_matches_suggestions(merged_matches)"
   ]
  },
  {
   "cell_type": "code",
   "execution_count": 19,
   "metadata": {},
   "outputs": [
    {
     "name": "stdout",
     "output_type": "stream",
     "text": [
      "+-----------------------------------------------------------------------------------------------------------+-------+-----------------------------------------------+-----------------------------------------------------------+--------------------+------------------------------------+-----------+--------------------------------------------+---------------------------+----------------+\n",
      "|pair_id                                                                                                    |segment|base_sku_uuid                                  |comp_sku_uuid                                              |base_source_store   |comp_source_store                   |seller_type|match_source_score_map                      |match_status               |aggregated_score|\n",
      "+-----------------------------------------------------------------------------------------------------------+-------+-----------------------------------------------+-----------------------------------------------------------+--------------------+------------------------------------+-----------+--------------------------------------------+---------------------------+----------------+\n",
      "|0000000000001<>53409<>petcarerx<>petcarerx_00000432<>147664<>chewy<>chewy                                  |pets   |0000000000001<>53409<>petcarerx<>petcarerx     |00000432<>147664<>chewy<>chewy                             |petcarerx<>petcarerx|chewy<>chewy                        |1P         |{MPN -> 1.0, TRANSITIVE -> 1.0, UPC -> 1.0} |[not_updated, new]         |3.0             |\n",
      "|00003463186541<>100341666<>homedepot<>homedepot_0003463186541<>109589<>hdsupplysolutions<>hdsupplysolutions|pets   |00003463186541<>100341666<>homedepot<>homedepot|0003463186541<>109589<>hdsupplysolutions<>hdsupplysolutions|homedepot<>homedepot|hdsupplysolutions<>hdsupplysolutions|1P         |{ML -> 0.8737, MPN -> 1.0, UPC -> 1.0}      |[updated, not_updated, new]|2.8737          |\n",
      "|0000000000001<>53409<>petcarerx<>petcarerx_00000123<>147664<>chewy<>chewy                                  |pets   |0000000000001<>53409<>petcarerx<>petcarerx     |00000123<>147664<>chewy<>chewy                             |petcarerx<>petcarerx|chewy<>chewy                        |1P         |{MPN -> 1.0, TRANSITIVE -> 1.0, UPC -> 1.0} |[not_updated, new]         |3.0             |\n",
      "|00003463186541<>100341666<>homedepot<>homedepot_000346318654<>109589<>hdsupplysolutions<>hdsupplysolutions |pets   |00003463186541<>100341666<>homedepot<>homedepot|000346318654<>109589<>hdsupplysolutions<>hdsupplysolutions |homedepot<>homedepot|hdsupplysolutions<>hdsupplysolutions|1P         |{ML -> 0.8737, UPC -> 1.0}                  |[updated, not_updated]     |1.8737          |\n",
      "|00003463782521<>203370169<>homedepot<>homedepot_000346378252<>9674462<>hdsupplysolutions<>hdsupplysolutions|pets   |00003463782521<>203370169<>homedepot<>homedepot|000346378252<>9674462<>hdsupplysolutions<>hdsupplysolutions|homedepot<>homedepot|hdsupplysolutions<>hdsupplysolutions|1P         |{ML -> 0.945, MPN -> 1.0, TRANSITIVE -> 1.0}|[not_updated, new]         |2.945           |\n",
      "|0000000000001<>53409<>petcarerx<>petcarerx_00000000<>147664<>chewy<>chewy                                  |pets   |0000000000001<>53409<>petcarerx<>petcarerx     |00000000<>147664<>chewy<>chewy                             |petcarerx<>petcarerx|chewy<>chewy                        |1P         |{MPN -> 1.0, TRANSITIVE -> 1.0, UPC -> 1.0} |[not_updated, new]         |3.0             |\n",
      "+-----------------------------------------------------------------------------------------------------------+-------+-----------------------------------------------+-----------------------------------------------------------+--------------------+------------------------------------+-----------+--------------------------------------------+---------------------------+----------------+\n",
      "\n",
      "+---------------------------------------------------------------------------------------------------------+-------+----------------------------------------------+----------------------------------------------------------+--------------------+------------------------------------+-----------+--------------------------------------------+------------+----------------+\n",
      "|pair_id                                                                                                  |segment|base_sku_uuid                                 |comp_sku_uuid                                             |base_source_store   |comp_source_store                   |seller_type|match_source_score_map                      |match_status|aggregated_score|\n",
      "+---------------------------------------------------------------------------------------------------------+-------+----------------------------------------------+----------------------------------------------------------+--------------------+------------------------------------+-----------+--------------------------------------------+------------+----------------+\n",
      "|0000346318654<>100341666<>homedepot<>homedepot_000346318654<>109589<>hdsupplysolutions<>hdsupplysolutions|pets   |0000346318654<>100341666<>homedepot<>homedepot|000346318654<>109589<>hdsupplysolutions<>hdsupplysolutions|homedepot<>homedepot|hdsupplysolutions<>hdsupplysolutions|1P         |{MPN -> 1.0, TRANSITIVE -> 1.0, UPC -> 1.0} |[new]       |3.0             |\n",
      "|000000000000<>53409<>petcarerx<>petcarerx_00000000<>147664<>chewy<>chewy                                 |pets   |000000000000<>53409<>petcarerx<>petcarerx     |00000000<>147664<>chewy<>chewy                            |petcarerx<>petcarerx|chewy<>chewy                        |1P         |{TRANSITIVE -> 1.0}                         |[new]       |1.0             |\n",
      "|0000346378252<>203370169<>homedepot<>homedepot_000346378252<>967446<>hdsupplysolutions<>hdsupplysolutions|pets   |0000346378252<>203370169<>homedepot<>homedepot|000346378252<>967446<>hdsupplysolutions<>hdsupplysolutions|homedepot<>homedepot|hdsupplysolutions<>hdsupplysolutions|1P         |{ML -> 0.876, TRANSITIVE -> 1.0, UPC -> 1.0}|[new]       |2.876           |\n",
      "|0000346280418<>203359001<>homedepot<>homedepot_346280418<>g4103325<>bcg<>bcg                             |pets   |0000346280418<>203359001<>homedepot<>homedepot|346280418<>g4103325<>bcg<>bcg                             |homedepot<>homedepot|bcg<>bcg                            |1P         |{ML -> 0.987, MPN -> 1.0, UPC -> 1.0}       |[new]       |2.987           |\n",
      "|0000346383867<>100670057<>homedepot<>homedepot_000346383867<>967493<>hdsupplysolutions<>hdsupplysolutions|pets   |0000346383867<>100670057<>homedepot<>homedepot|000346383867<>967493<>hdsupplysolutions<>hdsupplysolutions|homedepot<>homedepot|hdsupplysolutions<>hdsupplysolutions|1P         |{UPC -> 1.0}                                |[new]       |1.0             |\n",
      "|0000346392418<>204823270<>homedepot<>homedepot_000346392418<>453560<>hdsupplysolutions<>hdsupplysolutions|pets   |0000346392418<>204823270<>homedepot<>homedepot|000346392418<>453560<>hdsupplysolutions<>hdsupplysolutions|homedepot<>homedepot|hdsupplysolutions<>hdsupplysolutions|1P         |{MPN -> 1.0}                                |[new]       |1.0             |\n",
      "|000000000000<>53409<>petcarerx<>petcarerx_000000000000<>53417<>petcarerx<>petcarerx                      |pets   |000000000000<>53409<>petcarerx<>petcarerx     |000000000000<>53417<>petcarerx<>petcarerx                 |petcarerx<>petcarerx|petcarerx<>petcarerx                |1P         |{ML -> 0.8737}                              |[new]       |0.8737          |\n",
      "|0000346383843<>202080350<>homedepot<>homedepot_346383843<>g1969694<>bcg<>bcg                             |pets   |0000346383843<>202080350<>homedepot<>homedepot|346383843<>g1969694<>bcg<>bcg                             |homedepot<>homedepot|bcg<>bcg                            |1P         |{ML -> 0.567, MPN -> 1.0, TRANSITIVE -> 1.0}|[new]       |2.567           |\n",
      "+---------------------------------------------------------------------------------------------------------+-------+----------------------------------------------+----------------------------------------------------------+--------------------+------------------------------------+-----------+--------------------------------------------+------------+----------------+\n",
      "\n"
     ]
    }
   ],
   "source": [
    "updated_matches_suggestion.show(truncate =False, n = 100)\n",
    "new_matches_suggestion.show(truncate =False, n = 100)"
   ]
  },
  {
   "cell_type": "code",
   "execution_count": 20,
   "metadata": {},
   "outputs": [
    {
     "name": "stdout",
     "output_type": "stream",
     "text": [
      "+--------------------+-------+--------------------+--------------------+----------------------+----------------+--------------------+--------------------+------------+----------+-------------------+--------------+-----------------+----------------------+----------------------+-----------------+--------------------+-------------------------+----------------------+-----------------+--------------------+-------------------------+---------+\n",
      "|             pair_id|segment|       base_sku_uuid|       comp_sku_uuid|match_source_score_map|aggregated_score|        created_date|          created_by|updated_date|updated_by|bungee_audit_status|bungee_auditor|bungee_audit_date|bungee_auditor_comment|client_audit_status_l1|client_auditor_l1|client_audit_date_l1|client_auditor_l1_comment|client_audit_status_l2|client_auditor_l2|client_audit_date_l2|client_auditor_l2_comment|misc_info|\n",
      "+--------------------+-------+--------------------+--------------------+----------------------+----------------+--------------------+--------------------+------------+----------+-------------------+--------------+-----------------+----------------------+----------------------+-----------------+--------------------+-------------------------+----------------------+-----------------+--------------------+-------------------------+---------+\n",
      "|0000346318654<>10...|   pets|0000346318654<>10...|000346318654<>109...|  {MPN -> 1.0, TRAN...|             3.0|2023-12-06 20:06:...|match_management_...|        null|      null|         un_audited|          null|             null|                  null|                  null|             null|                null|                     null|                  null|             null|                null|                     null|     null|\n",
      "|000000000000<>534...|   pets|000000000000<>534...|00000000<>147664<...|   {TRANSITIVE -> 1.0}|             1.0|2023-12-06 20:06:...|match_management_...|        null|      null|         un_audited|          null|             null|                  null|                  null|             null|                null|                     null|                  null|             null|                null|                     null|     null|\n",
      "|0000346378252<>20...|   pets|0000346378252<>20...|000346378252<>967...|  {ML -> 0.876, TRA...|           2.876|2023-12-06 20:06:...|match_management_...|        null|      null|         un_audited|          null|             null|                  null|                  null|             null|                null|                     null|                  null|             null|                null|                     null|     null|\n",
      "|0000346280418<>20...|   pets|0000346280418<>20...|346280418<>g41033...|  {ML -> 0.987, MPN...|           2.987|2023-12-06 20:06:...|match_management_...|        null|      null|         un_audited|          null|             null|                  null|                  null|             null|                null|                     null|                  null|             null|                null|                     null|     null|\n",
      "|0000346383867<>10...|   pets|0000346383867<>10...|000346383867<>967...|          {UPC -> 1.0}|             1.0|2023-12-06 20:06:...|match_management_...|        null|      null|         un_audited|          null|             null|                  null|                  null|             null|                null|                     null|                  null|             null|                null|                     null|     null|\n",
      "|0000346392418<>20...|   pets|0000346392418<>20...|000346392418<>453...|          {MPN -> 1.0}|             1.0|2023-12-06 20:06:...|match_management_...|        null|      null|         un_audited|          null|             null|                  null|                  null|             null|                null|                     null|                  null|             null|                null|                     null|     null|\n",
      "|000000000000<>534...|   pets|000000000000<>534...|000000000000<>534...|        {ML -> 0.8737}|          0.8737|2023-12-06 20:06:...|match_management_...|        null|      null|         un_audited|          null|             null|                  null|                  null|             null|                null|                     null|                  null|             null|                null|                     null|     null|\n",
      "|0000346383843<>20...|   pets|0000346383843<>20...|346383843<>g19696...|  {ML -> 0.567, MPN...|           2.567|2023-12-06 20:06:...|match_management_...|        null|      null|         un_audited|          null|             null|                  null|                  null|             null|                null|                     null|                  null|             null|                null|                     null|     null|\n",
      "+--------------------+-------+--------------------+--------------------+----------------------+----------------+--------------------+--------------------+------------+----------+-------------------+--------------+-----------------+----------------------+----------------------+-----------------+--------------------+-------------------------+----------------------+-----------------+--------------------+-------------------------+---------+\n",
      "\n"
     ]
    }
   ],
   "source": [
    "new_matches_suggestion = aggregator.convert_schema_for_new_match_suggestion(new_matches_suggestion)\n",
    "new_matches_suggestion.show()"
   ]
  },
  {
   "cell_type": "code",
   "execution_count": 1,
   "metadata": {},
   "outputs": [
    {
     "ename": "SyntaxError",
     "evalue": "invalid syntax (3622547193.py, line 1)",
     "output_type": "error",
     "traceback": [
      "\u001b[0;36m  Input \u001b[0;32mIn [1]\u001b[0;36m\u001b[0m\n\u001b[0;31m    un_audited single word and status in capital\u001b[0m\n\u001b[0m               ^\u001b[0m\n\u001b[0;31mSyntaxError\u001b[0m\u001b[0;31m:\u001b[0m invalid syntax\n"
     ]
    }
   ],
   "source": [
    "un_audited single word and status in capital\n",
    "bungee_auditor -> glue job name\n"
   ]
  },
  {
   "cell_type": "code",
   "execution_count": null,
   "metadata": {},
   "outputs": [],
   "source": [
    "for manual upload we have to updated the map with source as MANUAL and updated score as well"
   ]
  }
 ],
 "metadata": {
  "kernelspec": {
   "display_name": "deltarun",
   "language": "python",
   "name": "python3"
  },
  "language_info": {
   "codemirror_mode": {
    "name": "ipython",
    "version": 3
   },
   "file_extension": ".py",
   "mimetype": "text/x-python",
   "name": "python",
   "nbconvert_exporter": "python",
   "pygments_lexer": "ipython3",
   "version": "3.9.13"
  }
 },
 "nbformat": 4,
 "nbformat_minor": 2
}

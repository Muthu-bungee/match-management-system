{
 "cells": [
  {
   "cell_type": "code",
   "execution_count": null,
   "metadata": {},
   "outputs": [],
   "source": [
    "from pyspark.sql import DataFrame, Row\n",
    "from functools import reduce\n",
    "from pyspark.sql.types import *\n",
    "from pyspark.sql.functions import *\n",
    "from graphframes import *\n",
    "from pyspark import SparkContext\n",
    "from pyspark import SparkConf\n",
    "from pyspark.sql import SQLContext\n",
    "import uuid"
   ]
  },
  {
   "cell_type": "code",
   "execution_count": null,
   "metadata": {},
   "outputs": [],
   "source": [
    "conf=SparkConf()\n",
    "conf.set(\"spark.executor.memory\", \"2g\")\n",
    "conf.set(\"spark.driver.memory\", \"12g\")\n",
    "conf.set(\"spark.cores.max\", \"6\")\n",
    "\n",
    "sc = SparkContext.getOrCreate(conf)\n",
    "\n",
    "spark = SQLContext(sc)"
   ]
  },
  {
   "cell_type": "code",
   "execution_count": null,
   "metadata": {},
   "outputs": [],
   "source": []
  },
  {
   "cell_type": "code",
   "execution_count": null,
   "metadata": {},
   "outputs": [],
   "source": [
    "class MatchPruner:\n",
    "    def __init__(self, mdw: DataFrame, match_suggestion: DataFrame, config: dict) -> None:\n",
    "        self.mdw = mdw\n",
    "        self.match_suggestion = match_suggestion\n",
    "        self.config = config\n",
    "        \n",
    "    def preprocessing_matches(self, matches: DataFrame):\n",
    "        matches = matches.withColumn(\"seller_type\", lower(col(\"seller_type\")))\\\n",
    "            .withColumn(\"match_type\", when( col(\"match_type\").isNotNull(), lower(col(\"match_type\")) ).otherwise(col(\"match_type\")) )\n",
    "        return matches\n",
    "    \n",
    "    def prune_1p_3p_matches(self, match_suggestion: DataFrame):\n",
    "        filtered_matches = None\n",
    "        pruned_matches = None\n",
    "        if self.config['seller_type'] == '1p':\n",
    "            filtered_matches = match_suggestion.filter(col('seller_type') == '1p')\n",
    "            pruned_matches = match_suggestion.filter(col('seller_type') == '3p')\n",
    "            pruned_matches = pruned_matches.withColumn(\"STATUS\", lit(\"pruned_by_seller_type_1p\"))\n",
    "        elif self.config['seller_type'] == '1p':\n",
    "            filtered_matches = match_suggestion.filter(col('seller_type') == '3p')\n",
    "            pruned_matches = match_suggestion.filter(col('seller_type') == '1p')\n",
    "            pruned_matches = pruned_matches.withColumn(\"STATUS\", lit(\"pruned_by_seller_type_3p\"))\n",
    "        else:\n",
    "            filtered_matches = match_suggestion\n",
    "        return filtered_matches, pruned_matches\n",
    "    \n",
    "    def separate_audited_unaudited_base_product_matches(self, match_suggestion:DataFrame, mdw:DataFrame):\n",
    "        unaudited_base_product_matches = match_suggestion.join(mdw, 'base_sku_uuid', 'left_anti')\n",
    "        audited_base_product_matches = match_suggestion.join(mdw, 'base_sku_uuid', 'inner')\n",
    "        return unaudited_base_product_matches, audited_base_product_matches\n",
    "    \n",
    "    def separate_audited_and_unaudited_matches(self, audited_base_product_matches:DataFrame, mdw:DataFrame):\n",
    "        audited_matches = audited_base_product_matches.join(mdw, 'pair_id', 'inner')\n",
    "        unaudited_matches = audited_base_product_matches.join(mdw, 'pair_id', 'left_anti')\n",
    "        return audited_matches, unaudited_matches\n",
    "    \n",
    "    def \n",
    "        \n",
    "    "
   ]
  }
 ],
 "metadata": {
  "language_info": {
   "name": "python"
  }
 },
 "nbformat": 4,
 "nbformat_minor": 2
}

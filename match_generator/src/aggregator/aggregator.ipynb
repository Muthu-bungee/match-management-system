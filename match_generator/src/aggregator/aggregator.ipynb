{
 "cells": [
  {
   "cell_type": "code",
   "execution_count": 1,
   "metadata": {},
   "outputs": [],
   "source": [
    "from pyspark.sql import DataFrame, Row\n",
    "from functools import reduce\n",
    "from pyspark.sql.types import *\n",
    "from pyspark.sql.functions import *\n",
    "from graphframes import *\n",
    "from pyspark import SparkContext\n",
    "from pyspark import SparkConf\n",
    "from pyspark.sql import SQLContext\n",
    "import uuid"
   ]
  },
  {
   "cell_type": "code",
   "execution_count": 2,
   "metadata": {},
   "outputs": [
    {
     "name": "stderr",
     "output_type": "stream",
     "text": [
      "23/12/06 09:53:24 WARN Utils: Your hostname, preacher resolves to a loopback address: 127.0.1.1; using 192.168.1.6 instead (on interface enp4s0)\n",
      "23/12/06 09:53:24 WARN Utils: Set SPARK_LOCAL_IP if you need to bind to another address\n",
      "WARNING: An illegal reflective access operation has occurred\n",
      "WARNING: Illegal reflective access by org.apache.spark.unsafe.Platform (file:/home/preacher/anaconda3/envs/deltarun/lib/python3.9/site-packages/pyspark/jars/spark-unsafe_2.12-3.2.1.jar) to constructor java.nio.DirectByteBuffer(long,int)\n",
      "WARNING: Please consider reporting this to the maintainers of org.apache.spark.unsafe.Platform\n",
      "WARNING: Use --illegal-access=warn to enable warnings of further illegal reflective access operations\n",
      "WARNING: All illegal access operations will be denied in a future release\n",
      "Using Spark's default log4j profile: org/apache/spark/log4j-defaults.properties\n",
      "Setting default log level to \"WARN\".\n",
      "To adjust logging level use sc.setLogLevel(newLevel). For SparkR, use setLogLevel(newLevel).\n",
      "23/12/06 09:53:25 WARN NativeCodeLoader: Unable to load native-hadoop library for your platform... using builtin-java classes where applicable\n",
      "/home/preacher/anaconda3/envs/deltarun/lib/python3.9/site-packages/pyspark/sql/context.py:77: FutureWarning: Deprecated in 3.0.0. Use SparkSession.builder.getOrCreate() instead.\n",
      "  warnings.warn(\n"
     ]
    }
   ],
   "source": [
    "conf=SparkConf()\n",
    "conf.set(\"spark.executor.memory\", \"2g\")\n",
    "conf.set(\"spark.driver.memory\", \"12g\")\n",
    "conf.set(\"spark.cores.max\", \"6\")\n",
    "\n",
    "sc = SparkContext.getOrCreate(conf)\n",
    "\n",
    "spark = SQLContext(sc)"
   ]
  },
  {
   "cell_type": "code",
   "execution_count": null,
   "metadata": {},
   "outputs": [],
   "source": []
  },
  {
   "cell_type": "code",
   "execution_count": 3,
   "metadata": {},
   "outputs": [],
   "source": [
    "match_schema = StructType([\n",
    "    StructField(\"pair_id\", StringType(), True),\n",
    "    StructField(\"uuid_a\", StringType(), True),\n",
    "    StructField(\"uuid_b\", StringType(), True),\n",
    "    StructField(\"score\", DoubleType(), True),\n",
    "    StructField(\"segment\", StringType(), True),\n",
    "    StructField(\"seller_flag\", StringType(), True),\n",
    "    StructField(\"year\", StringType(), True),\n",
    "    StructField(\"month\", StringType(), True),\n",
    "    StructField(\"day\", StringType(), True),\n",
    "    StructField(\"run_number\", StringType(), True),\n",
    "    StructField(\"source\", StringType(), True),\n",
    "])\n"
   ]
  },
  {
   "cell_type": "code",
   "execution_count": 4,
   "metadata": {},
   "outputs": [],
   "source": [
    "upc_match = [\n",
    "    [\"0000346280418<>203359001<>homedepot<>homedepot_346280418<>g4103325<>bcg<>bcg\", \"0000346280418<>203359001<>homedepot<>homedepot\",\"346280418<>g4103325<>bcg<>bcg\",1.0,\"pets\",\"1P\",\"2023\",\"07\",\"17\", \"01\",\"UPC\"],\n",
    "    [\"0000346318654<>100341666<>homedepot<>homedepot_000346318654<>109589<>hdsupplysolutions<>hdsupplysolutions\", \"0000346318654<>100341666<>homedepot<>homedepot\",\"000346318654<>109589<>hdsupplysolutions<>hdsupplysolutions\",1.0,\"pets\",\"1P\",\"2023\",\"07\",\"17\", \"01\",\"UPC\"],\n",
    "    [\"0000346378252<>203370169<>homedepot<>homedepot_000346378252<>967446<>hdsupplysolutions<>hdsupplysolutions\", \"0000346378252<>203370169<>homedepot<>homedepot\",\"000346378252<>967446<>hdsupplysolutions<>hdsupplysolutions\",1.0,\"pets\",\"1P\",\"2023\",\"07\",\"17\", \"01\",\"UPC\"],\n",
    "    [\"0000346383867<>100670057<>homedepot<>homedepot_000346383867<>967493<>hdsupplysolutions<>hdsupplysolutions\", \"0000346383867<>100670057<>homedepot<>homedepot\",\"000346383867<>967493<>hdsupplysolutions<>hdsupplysolutions\",1.0,\"pets\",\"1P\",\"2023\",\"07\",\"17\", \"01\",\"UPC\"],\n",
    "    [\"00003463186541<>100341666<>homedepot<>homedepot_000346318654<>109589<>hdsupplysolutions<>hdsupplysolutions\", \"00003463186541<>100341666<>homedepot<>homedepot\",\"000346318654<>109589<>hdsupplysolutions<>hdsupplysolutions\",1.0,\"pets\",\"1P\",\"2023\",\"07\",\"17\", \"01\",\"UPC\"], # > 0.05\n",
    "    [\"0000000000001<>53409<>petcarerx<>petcarerx_00000432<>147664<>chewy<>chewy\", \"0000000000001<>53409<>petcarerx<>petcarerx\",\"00000432<>147664<>chewy<>chewy\",1.0,\"pets\",\"1P\",\"2023\",\"07\",\"17\", \"01\",\"UPC\"], # appended one old not present\n",
    "    [\"0000000000001<>53409<>petcarerx<>petcarerx_00000000<>147664<>chewy<>chewy\", \"0000000000001<>53409<>petcarerx<>petcarerx\",\"00000000<>147664<>chewy<>chewy\",1.0,\"pets\",\"1P\",\"2023\",\"07\",\"17\", \"01\",\"UPC\"], # appended\n",
    "]"
   ]
  },
  {
   "cell_type": "code",
   "execution_count": 5,
   "metadata": {},
   "outputs": [],
   "source": [
    "mpn_match = [\n",
    "    [\"0000346280418<>203359001<>homedepot<>homedepot_346280418<>g4103325<>bcg<>bcg\",\"0000346280418<>203359001<>homedepot<>homedepot\",\"346280418<>g4103325<>bcg<>bcg\",1.0,\"pets\",\"1P\",\"2023\",\"07\",\"17\", \"01\",\"MPN\"],\n",
    "    [\"0000346318654<>100341666<>homedepot<>homedepot_000346318654<>109589<>hdsupplysolutions<>hdsupplysolutions\",\"0000346318654<>100341666<>homedepot<>homedepot\",\"000346318654<>109589<>hdsupplysolutions<>hdsupplysolutions\",1.0,\"pets\",\"1P\",\"2023\",\"07\",\"17\", \"01\",\"MPN\"],\n",
    "    [\"0000346383843<>202080350<>homedepot<>homedepot_346383843<>g1969694<>bcg<>bcg\",\"0000346383843<>202080350<>homedepot<>homedepot\",\"346383843<>g1969694<>bcg<>bcg\",1.0,\"pets\",\"1P\",\"2023\",\"07\",\"17\", \"01\",\"MPN\"],\n",
    "    [\"0000346392418<>204823270<>homedepot<>homedepot_000346392418<>453560<>hdsupplysolutions<>hdsupplysolutions\",\"0000346392418<>204823270<>homedepot<>homedepot\",\"000346392418<>453560<>hdsupplysolutions<>hdsupplysolutions\",1.0,\"pets\",\"1P\",\"2023\",\"07\",\"17\", \"01\",\"MPN\"],\n",
    "    [\"00003463186541<>100341666<>homedepot<>homedepot_0003463186541<>109589<>hdsupplysolutions<>hdsupplysolutions\",\"00003463186541<>100341666<>homedepot<>homedepot\",\"0003463186541<>109589<>hdsupplysolutions<>hdsupplysolutions\",1.0,\"pets\",\"1P\",\"2023\",\"07\",\"17\", \"01\",\"MPN\"], # > 0.05 + added\n",
    "    [\"00003463782521<>203370169<>homedepot<>homedepot_000346378252<>967446<>hdsupplysolutions<>hdsupplysolutions\",\"00003463782521<>203370169<>homedepot<>homedepot\",\"000346378252<>967446<>hdsupplysolutions<>hdsupplysolutions\",1.0,\"pets\",\"1P\",\"2023\",\"07\",\"17\", \"01\",\"MPN\"], # < 0.05\n",
    "    [\"00003463782521<>203370169<>homedepot<>homedepot_000346378252<>9674462<>hdsupplysolutions<>hdsupplysolutions\",\"00003463782521<>203370169<>homedepot<>homedepot\",\"000346378252<>9674462<>hdsupplysolutions<>hdsupplysolutions\",1.0,\"pets\",\"1P\",\"2023\",\"07\",\"17\", \"01\",\"MPN\"], # < 0.05 + added\n",
    "    [\"0000000000001<>53409<>petcarerx<>petcarerx_00000000<>147664<>chewy<>chewy\",\"0000000000001<>53409<>petcarerx<>petcarerx\",\"00000000<>147664<>chewy<>chewy\",1.0,\"pets\",\"1P\",\"2023\",\"07\",\"17\", \"01\",\"MPN\"], # appended\n",
    "]"
   ]
  },
  {
   "cell_type": "code",
   "execution_count": 6,
   "metadata": {},
   "outputs": [],
   "source": [
    "ml_data = [\n",
    "    [\"0000346280418<>203359001<>homedepot<>homedepot_346280418<>g4103325<>bcg<>bcg\",\"0000346280418<>203359001<>homedepot<>homedepot\",\"346280418<>g4103325<>bcg<>bcg\",0.987,\"pets\",\"1P\",\"2023\",\"07\",\"17\", \"01\",\"ML\"],\n",
    "    [\"0000346378252<>203370169<>homedepot<>homedepot_000346378252<>967446<>hdsupplysolutions<>hdsupplysolutions\",\"0000346378252<>203370169<>homedepot<>homedepot\",\"000346378252<>967446<>hdsupplysolutions<>hdsupplysolutions\",0.876,\"pets\",\"1P\",\"2023\",\"07\",\"17\", \"01\",\"ML\"],\n",
    "    [\"0000346383843<>202080350<>homedepot<>homedepot_346383843<>g1969694<>bcg<>bcg\",\"0000346383843<>202080350<>homedepot<>homedepot\",\"346383843<>g1969694<>bcg<>bcg\",0.567,\"pets\",\"1P\",\"2023\",\"07\",\"17\", \"01\",\"ML\"],\n",
    "    [\"000000000000<>53409<>petcarerx<>petcarerx_000000000000<>53417<>petcarerx<>petcarerx\",\"000000000000<>53409<>petcarerx<>petcarerx\",\"000000000000<>53417<>petcarerx<>petcarerx\",0.8737,\"pets\",\"1P\",\"2023\",\"07\",\"17\", \"01\",\"ML\"],\n",
    "    [\"00003463186541<>100341666<>homedepot<>homedepot_000346318654<>109589<>hdsupplysolutions<>hdsupplysolutions\",\"00003463186541<>100341666<>homedepot<>homedepot\",\"000346318654<>109589<>hdsupplysolutions<>hdsupplysolutions\",0.8737,\"pets\",\"1P\",\"2023\",\"07\",\"17\", \"01\",\"ML\"], # > 0.05\n",
    "    [\"00003463186541<>100341666<>homedepot<>homedepot_0003463186541<>109589<>hdsupplysolutions<>hdsupplysolutions\",\"00003463186541<>100341666<>homedepot<>homedepot\",\"0003463186541<>109589<>hdsupplysolutions<>hdsupplysolutions\",0.8737,\"pets\",\"1P\",\"2023\",\"07\",\"17\", \"01\",\"ML\"], # > 0.05 + added\n",
    "    [\"00003463782521<>203370169<>homedepot<>homedepot_000346378252<>967446<>hdsupplysolutions<>hdsupplysolutions\",\"00003463782521<>203370169<>homedepot<>homedepot\",\"000346378252<>967446<>hdsupplysolutions<>hdsupplysolutions\",0.943,\"pets\",\"1P\",\"2023\",\"07\",\"17\", \"01\",\"ML\"], # < 0.05\n",
    "    [\"00003463782521<>203370169<>homedepot<>homedepot_000346378252<>9674462<>hdsupplysolutions<>hdsupplysolutions\",\"00003463782521<>203370169<>homedepot<>homedepot\",\"000346378252<>9674462<>hdsupplysolutions<>hdsupplysolutions\",0.943,\"pets\",\"1P\",\"2023\",\"07\",\"17\", \"01\",\"ML\"], # < 0.05 + added\n",
    "]"
   ]
  },
  {
   "cell_type": "code",
   "execution_count": 7,
   "metadata": {},
   "outputs": [],
   "source": [
    "transitive_data = [\n",
    "    [\"0000346318654<>100341666<>homedepot<>homedepot_000346318654<>109589<>hdsupplysolutions<>hdsupplysolutions\", \"0000346318654<>100341666<>homedepot<>homedepot\",\"000346318654<>109589<>hdsupplysolutions<>hdsupplysolutions\",1.0,\"pets\",\"1P\",\"2023\",\"07\",\"17\", \"01\",\"TRANSITIVE\"],\n",
    "    [\"0000346378252<>203370169<>homedepot<>homedepot_000346378252<>967446<>hdsupplysolutions<>hdsupplysolutions\", \"0000346378252<>203370169<>homedepot<>homedepot\",\"000346378252<>967446<>hdsupplysolutions<>hdsupplysolutions\",1.0,\"pets\",\"1P\",\"2023\",\"07\",\"17\", \"01\",\"TRANSITIVE\"],\n",
    "    [\"0000346383843<>202080350<>homedepot<>homedepot_346383843<>g1969694<>bcg<>bcg\", \"0000346383843<>202080350<>homedepot<>homedepot\",\"346383843<>g1969694<>bcg<>bcg\",1.0,\"pets\",\"1P\",\"2023\",\"07\",\"17\", \"01\",\"TRANSITIVE\"],\n",
    "    [\"000000000000<>53409<>petcarerx<>petcarerx_00000000<>147664<>chewy<>chewy\", \"000000000000<>53409<>petcarerx<>petcarerx\",\"00000000<>147664<>chewy<>chewy\",1.0,\"pets\",\"1P\",\"2023\",\"07\",\"17\", \"01\",\"TRANSITIVE\"],\n",
    "    [\"00003463782521<>203370169<>homedepot<>homedepot_000346378252<>9674462<>hdsupplysolutions<>hdsupplysolutions\", \"00003463782521<>203370169<>homedepot<>homedepot\",\"000346378252<>9674462<>hdsupplysolutions<>hdsupplysolutions\",1.0,\"pets\",\"1P\",\"2023\",\"07\",\"17\", \"01\",\"TRANSITIVE\"], # < 0.05 + added\n",
    "    [\"0000000000001<>53409<>petcarerx<>petcarerx_00000123<>147664<>chewy<>chewy\", \"0000000000001<>53409<>petcarerx<>petcarerx\",\"00000123<>147664<>chewy<>chewy\",1.0,\"pets\",\"1P\",\"2023\",\"07\",\"17\", \"01\",\"TRANSITIVE\"], # added\n",
    "    [\"0000000000001<>53409<>petcarerx<>petcarerx_00000432<>147664<>chewy<>chewy\", \"0000000000001<>53409<>petcarerx<>petcarerx\",\"00000432<>147664<>chewy<>chewy\",1.0,\"pets\",\"1P\",\"2023\",\"07\",\"17\", \"01\",\"TRANSITIVE\"], # appended one old not present\n",
    "    [\"0000000000001<>53409<>petcarerx<>petcarerx_00000000<>147664<>chewy<>chewy\", \"0000000000001<>53409<>petcarerx<>petcarerx\",\"00000000<>147664<>chewy<>chewy\",1.0,\"pets\",\"1P\",\"2023\",\"07\",\"17\", \"01\",\"TRANSITIVE\"], # appended\n",
    "]"
   ]
  },
  {
   "cell_type": "code",
   "execution_count": 8,
   "metadata": {},
   "outputs": [],
   "source": [
    "mdw_schema = StructType([\n",
    "    StructField(\"pair_id\", StringType(), True),\n",
    "    StructField(\"base_sku_uuid\", StringType(), True),\n",
    "    StructField(\"comp_sku_uuid\", StringType(), True),\n",
    "    StructField(\"segment\", StringType(), True),\n",
    "    StructField(\"match_source\", MapType(StringType(), DoubleType()), True),\n",
    "    StructField(\"score\", DoubleType(), True),\n",
    "])"
   ]
  },
  {
   "cell_type": "code",
   "execution_count": 9,
   "metadata": {},
   "outputs": [],
   "source": [
    "mdw_data = [\n",
    "    [\"00003463186541<>100341666<>homedepot<>homedepot_000346318654<>109589<>hdsupplysolutions<>hdsupplysolutions\", \"00003463186541<>100341666<>homedepot<>homedepot\",\"000346318654<>109589<>hdsupplysolutions<>hdsupplysolutions\",\"pets\",{\"ML\": 0.745, \"UPC\": 1.0},1.745], # > 0.05\n",
    "    [\"00003463186541<>100341666<>homedepot<>homedepot_0003463186541<>109589<>hdsupplysolutions<>hdsupplysolutions\", \"00003463186541<>100341666<>homedepot<>homedepot\",\"0003463186541<>109589<>hdsupplysolutions<>hdsupplysolutions\",\"pets\",{\"ML\": 0.745, \"MPN\": 1.0},1.745], # > 0.05 + added\n",
    "    [\"00003463782521<>203370169<>homedepot<>homedepot_000346378252<>967446<>hdsupplysolutions<>hdsupplysolutions\", \"00003463782521<>203370169<>homedepot<>homedepot\",\"000346378252<>967446<>hdsupplysolutions<>hdsupplysolutions\",\"pets\",{\"ML\": 0.945, \"MPN\": 1.0},0.945], # < 0.05\n",
    "    [\"00003463782521<>203370169<>homedepot<>homedepot_000346378252<>9674462<>hdsupplysolutions<>hdsupplysolutions\", \"00003463782521<>203370169<>homedepot<>homedepot\",\"000346378252<>9674462<>hdsupplysolutions<>hdsupplysolutions\",\"pets\",{\"ML\": 0.945, \"MPN\": 1.0},1.945], # < 0.05 + added\n",
    "    [\"00003463838431<>202080350<>homedepot<>homedepot_346383843<>g1969694<>bcg<>bcg\", \"00003463838431<>202080350<>homedepot<>homedepot\",\"346383843<>g1969694<>bcg<>bcg\",\"pets\", {\"UPC\": 1.0, \"MPN\": 1.0},2.0], # not added\n",
    "    [\"0000000000001<>53409<>petcarerx<>petcarerx_00000000<>147664<>chewy<>chewy\", \"0000000000001<>53409<>petcarerx<>petcarerx\",\"00000000<>147664<>chewy<>chewy\",\"pets\", {\"UPC\": 1.0, \"MPN\": 1.0},2.0], # appended\n",
    "    [\"0000000000001<>53409<>petcarerx<>petcarerx_00000432<>147664<>chewy<>chewy\", \"0000000000001<>53409<>petcarerx<>petcarerx\",\"00000432<>147664<>chewy<>chewy\",\"pets\", {\"UPC\": 1.0, \"MPN\": 1.0},2.0], # appended one old not present\n",
    "    [\"0000000000001<>53409<>petcarerx<>petcarerx_00000123<>147664<>chewy<>chewy\", \"0000000000001<>53409<>petcarerx<>petcarerx\",\"00000123<>147664<>chewy<>chewy\",\"pets\", {\"UPC\": 1.0, \"MPN\": 1.0},2.0], # added\n",
    "]"
   ]
  },
  {
   "cell_type": "code",
   "execution_count": null,
   "metadata": {},
   "outputs": [],
   "source": []
  },
  {
   "cell_type": "code",
   "execution_count": null,
   "metadata": {},
   "outputs": [],
   "source": []
  },
  {
   "cell_type": "code",
   "execution_count": 10,
   "metadata": {},
   "outputs": [],
   "source": [
    "mdw = spark.createDataFrame(mdw_data, schema=mdw_schema)"
   ]
  },
  {
   "cell_type": "code",
   "execution_count": 11,
   "metadata": {},
   "outputs": [],
   "source": [
    "ml_match_suggestion = df = spark.createDataFrame(ml_data, schema=match_schema)\n",
    "upc_match_suggestion = spark.createDataFrame(upc_match, schema=match_schema)\n",
    "mpn_match_suggestion = spark.createDataFrame(mpn_match, schema=match_schema)\n",
    "transitive_match_suggestion = spark.createDataFrame(transitive_data, schema=match_schema)\n"
   ]
  },
  {
   "cell_type": "code",
   "execution_count": 12,
   "metadata": {},
   "outputs": [
    {
     "name": "stdout",
     "output_type": "stream",
     "text": [
      "Combining dfs\n"
     ]
    }
   ],
   "source": [
    "from aggregator import Aggregator\n",
    "aggregator = Aggregator(ml_match_suggestion,\n",
    "upc_match_suggestion,\n",
    "mpn_match_suggestion,\n",
    "transitive_match_suggestion,\n",
    "mdw)"
   ]
  },
  {
   "cell_type": "code",
   "execution_count": 13,
   "metadata": {},
   "outputs": [],
   "source": [
    "merged_matches = aggregator.merged_match_suggestion\n",
    "mdw = aggregator.mdw"
   ]
  },
  {
   "cell_type": "code",
   "execution_count": 14,
   "metadata": {},
   "outputs": [
    {
     "name": "stdout",
     "output_type": "stream",
     "text": [
      "root\n",
      " |-- pair_id: string (nullable = true)\n",
      " |-- uuid_a: string (nullable = true)\n",
      " |-- uuid_b: string (nullable = true)\n",
      " |-- new_score: double (nullable = true)\n",
      " |-- new_segment: string (nullable = true)\n",
      " |-- new_seller_flag: string (nullable = true)\n",
      " |-- year: string (nullable = true)\n",
      " |-- month: string (nullable = true)\n",
      " |-- day: string (nullable = true)\n",
      " |-- run_number: string (nullable = true)\n",
      " |-- source: string (nullable = true)\n",
      "\n",
      "root\n",
      " |-- pair_id: string (nullable = true)\n",
      " |-- base_sku_uuid: string (nullable = true)\n",
      " |-- comp_sku_uuid: string (nullable = true)\n",
      " |-- segment: string (nullable = true)\n",
      " |-- match_source: map (nullable = true)\n",
      " |    |-- key: string\n",
      " |    |-- value: double (valueContainsNull = true)\n",
      " |-- score: double (nullable = true)\n",
      "\n"
     ]
    }
   ],
   "source": [
    "merged_matches.printSchema()\n",
    "mdw.printSchema()"
   ]
  },
  {
   "cell_type": "code",
   "execution_count": 15,
   "metadata": {},
   "outputs": [
    {
     "name": "stderr",
     "output_type": "stream",
     "text": [
      "                                                                                \r"
     ]
    },
    {
     "name": "stdout",
     "output_type": "stream",
     "text": [
      "+--------------------+--------------------+--------------------+-----------+---------+------+-----+\n",
      "|             pair_id|       base_sku_uuid|       comp_sku_uuid|old_segment|old_score|source|score|\n",
      "+--------------------+--------------------+--------------------+-----------+---------+------+-----+\n",
      "|00003463186541<>1...|00003463186541<>1...|000346318654<>109...|       pets|    1.745|   UPC|  1.0|\n",
      "|00003463186541<>1...|00003463186541<>1...|000346318654<>109...|       pets|    1.745|    ML|0.745|\n",
      "|00003463186541<>1...|00003463186541<>1...|0003463186541<>10...|       pets|    1.745|   MPN|  1.0|\n",
      "|00003463186541<>1...|00003463186541<>1...|0003463186541<>10...|       pets|    1.745|    ML|0.745|\n",
      "|00003463782521<>2...|00003463782521<>2...|000346378252<>967...|       pets|    0.945|   MPN|  1.0|\n",
      "|00003463782521<>2...|00003463782521<>2...|000346378252<>967...|       pets|    0.945|    ML|0.945|\n",
      "|00003463782521<>2...|00003463782521<>2...|000346378252<>967...|       pets|    1.945|   MPN|  1.0|\n",
      "|00003463782521<>2...|00003463782521<>2...|000346378252<>967...|       pets|    1.945|    ML|0.945|\n",
      "|00003463838431<>2...|00003463838431<>2...|346383843<>g19696...|       pets|      2.0|   UPC|  1.0|\n",
      "|00003463838431<>2...|00003463838431<>2...|346383843<>g19696...|       pets|      2.0|   MPN|  1.0|\n",
      "|0000000000001<>53...|0000000000001<>53...|00000000<>147664<...|       pets|      2.0|   UPC|  1.0|\n",
      "|0000000000001<>53...|0000000000001<>53...|00000000<>147664<...|       pets|      2.0|   MPN|  1.0|\n",
      "|0000000000001<>53...|0000000000001<>53...|00000432<>147664<...|       pets|      2.0|   UPC|  1.0|\n",
      "|0000000000001<>53...|0000000000001<>53...|00000432<>147664<...|       pets|      2.0|   MPN|  1.0|\n",
      "|0000000000001<>53...|0000000000001<>53...|00000123<>147664<...|       pets|      2.0|   UPC|  1.0|\n",
      "|0000000000001<>53...|0000000000001<>53...|00000123<>147664<...|       pets|      2.0|   MPN|  1.0|\n",
      "+--------------------+--------------------+--------------------+-----------+---------+------+-----+\n",
      "\n"
     ]
    },
    {
     "ename": "AnalysisException",
     "evalue": "cannot resolve 'old_seller_flag' given input columns: [base_sku_uuid, comp_sku_uuid, day, month, new_score, new_seller_flag, old_score, pair_id, run_number, score, segment, source, uuid_a, uuid_b, year];\n'Project [pair_id#234, source#235, uuid_a#13, uuid_b#14, new_score#166, new_seller_flag#168, year#18, month#19, day#20, run_number#21, base_sku_uuid#1, comp_sku_uuid#2, old_score#181, score#351, segment#368, CASE WHEN isnull('old_seller_flag) THEN new_seller_flag#168 ELSE 'old_seller_flag END AS seller_flag#401]\n+- Project [pair_id#234, source#235, uuid_a#13, uuid_b#14, new_score#166, new_seller_flag#168, year#18, month#19, day#20, run_number#21, base_sku_uuid#1, comp_sku_uuid#2, old_score#181, score#351, segment#368]\n   +- Project [pair_id#234, source#235, uuid_a#13, uuid_b#14, new_score#166, new_segment#167, new_seller_flag#168, year#18, month#19, day#20, run_number#21, base_sku_uuid#1, comp_sku_uuid#2, old_segment#180, old_score#181, score#351, CASE WHEN isnull(old_segment#180) THEN new_segment#167 ELSE old_segment#180 END AS segment#368]\n      +- Project [pair_id#234, source#235, uuid_a#13, uuid_b#14, new_score#166, new_segment#167, new_seller_flag#168, year#18, month#19, day#20, run_number#21, base_sku_uuid#1, comp_sku_uuid#2, old_segment#180, old_score#181, CASE WHEN isnull(old_score#181) THEN new_score#166 WHEN isnull(new_score#166) THEN old_score#181 WHEN (((old_score#181 - new_score#166) >= -0.05) AND ((old_score#181 - new_score#166) <= 0.05)) THEN old_score#181 ELSE new_score#166 END AS score#351]\n         +- Project [coalesce(pair_id#12, pair_id#0) AS pair_id#234, coalesce(source#22, source#188) AS source#235, uuid_a#13, uuid_b#14, new_score#166, new_segment#167, new_seller_flag#168, year#18, month#19, day#20, run_number#21, base_sku_uuid#1, comp_sku_uuid#2, old_segment#180, old_score#181, score#189]\n            +- Join FullOuter, ((pair_id#12 = pair_id#0) AND (source#22 = source#188))\n               :- Project [pair_id#12, uuid_a#13, uuid_b#14, score#15 AS new_score#166, segment#16 AS new_segment#167, seller_flag#17 AS new_seller_flag#168, year#18, month#19, day#20, run_number#21, source#22]\n               :  +- Union false, false\n               :     :- LogicalRDD [pair_id#12, uuid_a#13, uuid_b#14, score#15, segment#16, seller_flag#17, year#18, month#19, day#20, run_number#21, source#22], false\n               :     :- Project [pair_id#34, uuid_a#35, uuid_b#36, score#37, segment#38, seller_flag#39, year#40, month#41, day#42, run_number#43, source#44]\n               :     :  +- LogicalRDD [pair_id#34, uuid_a#35, uuid_b#36, score#37, segment#38, seller_flag#39, year#40, month#41, day#42, run_number#43, source#44], false\n               :     :- Project [pair_id#56, uuid_a#57, uuid_b#58, score#59, segment#60, seller_flag#61, year#62, month#63, day#64, run_number#65, source#66]\n               :     :  +- LogicalRDD [pair_id#56, uuid_a#57, uuid_b#58, score#59, segment#60, seller_flag#61, year#62, month#63, day#64, run_number#65, source#66], false\n               :     +- Project [pair_id#78, uuid_a#79, uuid_b#80, score#81, segment#82, seller_flag#83, year#84, month#85, day#86, run_number#87, source#88]\n               :        +- LogicalRDD [pair_id#78, uuid_a#79, uuid_b#80, score#81, segment#82, seller_flag#83, year#84, month#85, day#86, run_number#87, source#88], false\n               +- Project [pair_id#0, base_sku_uuid#1, comp_sku_uuid#2, old_segment#180, old_score#181, source#188, score#189]\n                  +- Project [pair_id#0, base_sku_uuid#1, comp_sku_uuid#2, old_segment#180, match_source#4, old_score#181, source#188, score#189]\n                     +- Generate explode(match_source#4), false, [source#188, score#189]\n                        +- Project [pair_id#0, base_sku_uuid#1, comp_sku_uuid#2, segment#3 AS old_segment#180, match_source#4, score#5 AS old_score#181]\n                           +- LogicalRDD [pair_id#0, base_sku_uuid#1, comp_sku_uuid#2, segment#3, match_source#4, score#5], false\n",
     "output_type": "error",
     "traceback": [
      "\u001b[0;31m---------------------------------------------------------------------------\u001b[0m",
      "\u001b[0;31mAnalysisException\u001b[0m                         Traceback (most recent call last)",
      "\u001b[1;32m/home/preacher/Bungee/CodeRepo/match-management-system/match_generator/src/aggregator/aggregator.ipynb Cell 18\u001b[0m line \u001b[0;36m<cell line: 1>\u001b[0;34m()\u001b[0m\n\u001b[0;32m----> <a href='vscode-notebook-cell:/home/preacher/Bungee/CodeRepo/match-management-system/match_generator/src/aggregator/aggregator.ipynb#X23sZmlsZQ%3D%3D?line=0'>1</a>\u001b[0m merged_matches \u001b[39m=\u001b[39m aggregator\u001b[39m.\u001b[39;49maggregate_match_suggestion_and_mdw(mdw, merged_matches)\n",
      "File \u001b[0;32m~/Bungee/CodeRepo/match-management-system/match_generator/src/aggregator/aggregator.py:110\u001b[0m, in \u001b[0;36mAggregator.aggregate_match_suggestion_and_mdw\u001b[0;34m(self, mdw, merged_match_suggestion)\u001b[0m\n\u001b[1;32m    107\u001b[0m merged_match_suggestion\u001b[39m.\u001b[39mcache()\n\u001b[1;32m    108\u001b[0m score_diff \u001b[39m=\u001b[39m col(\u001b[39m\"\u001b[39m\u001b[39mold_score\u001b[39m\u001b[39m\"\u001b[39m) \u001b[39m-\u001b[39m col(\u001b[39m\"\u001b[39m\u001b[39mnew_score\u001b[39m\u001b[39m\"\u001b[39m)\n\u001b[0;32m--> 110\u001b[0m merged_matches \u001b[39m=\u001b[39m merged_matches\u001b[39m.\u001b[39;49mwithColumn( \u001b[39m\"\u001b[39;49m\u001b[39mscore\u001b[39;49m\u001b[39m\"\u001b[39;49m, \n\u001b[1;32m    111\u001b[0m                                             when( col(\u001b[39m\"\u001b[39;49m\u001b[39mold_score\u001b[39;49m\u001b[39m\"\u001b[39;49m)\u001b[39m.\u001b[39;49misNull(), col(\u001b[39m\"\u001b[39;49m\u001b[39mnew_score\u001b[39;49m\u001b[39m\"\u001b[39;49m) )\\\n\u001b[1;32m    112\u001b[0m                                             \u001b[39m.\u001b[39;49mwhen( col(\u001b[39m\"\u001b[39;49m\u001b[39mnew_score\u001b[39;49m\u001b[39m\"\u001b[39;49m)\u001b[39m.\u001b[39;49misNull(), col(\u001b[39m\"\u001b[39;49m\u001b[39mold_score\u001b[39;49m\u001b[39m\"\u001b[39;49m) )\\\n\u001b[1;32m    113\u001b[0m                                             \u001b[39m.\u001b[39;49mwhen( (score_diff\u001b[39m.\u001b[39;49mbetween(\u001b[39m-\u001b[39;49m\u001b[39m0.05\u001b[39;49m, \u001b[39m0.05\u001b[39;49m)) , col(\u001b[39m\"\u001b[39;49m\u001b[39mold_score\u001b[39;49m\u001b[39m\"\u001b[39;49m) )\\\n\u001b[1;32m    114\u001b[0m                                             \u001b[39m.\u001b[39;49motherwise( col(\u001b[39m\"\u001b[39;49m\u001b[39mnew_score\u001b[39;49m\u001b[39m\"\u001b[39;49m) ) \n\u001b[1;32m    115\u001b[0m                                         )\\\n\u001b[1;32m    116\u001b[0m                                 \u001b[39m.\u001b[39;49mwithColumn( \u001b[39m\"\u001b[39;49m\u001b[39msegment\u001b[39;49m\u001b[39m\"\u001b[39;49m, \n\u001b[1;32m    117\u001b[0m                                             when( col(\u001b[39m\"\u001b[39;49m\u001b[39mold_segment\u001b[39;49m\u001b[39m\"\u001b[39;49m)\u001b[39m.\u001b[39;49misNull(), col(\u001b[39m\"\u001b[39;49m\u001b[39mnew_segment\u001b[39;49m\u001b[39m\"\u001b[39;49m) )\\\n\u001b[1;32m    118\u001b[0m                                             \u001b[39m.\u001b[39;49motherwise(  col(\u001b[39m\"\u001b[39;49m\u001b[39mold_segment\u001b[39;49m\u001b[39m\"\u001b[39;49m) )\n\u001b[1;32m    119\u001b[0m                                         )\u001b[39m.\u001b[39;49mdrop(\u001b[39m\"\u001b[39;49m\u001b[39mold_segment\u001b[39;49m\u001b[39m\"\u001b[39;49m, \u001b[39m\"\u001b[39;49m\u001b[39mnew_segment\u001b[39;49m\u001b[39m\"\u001b[39;49m)\\\n\u001b[1;32m    120\u001b[0m                                 \u001b[39m.\u001b[39;49mwithColumn( \u001b[39m\"\u001b[39;49m\u001b[39mseller_flag\u001b[39;49m\u001b[39m\"\u001b[39;49m, \n\u001b[1;32m    121\u001b[0m                                             when( col(\u001b[39m\"\u001b[39;49m\u001b[39mold_seller_flag\u001b[39;49m\u001b[39m\"\u001b[39;49m)\u001b[39m.\u001b[39;49misNull(), col(\u001b[39m\"\u001b[39;49m\u001b[39mnew_seller_flag\u001b[39;49m\u001b[39m\"\u001b[39;49m) )\\\n\u001b[1;32m    122\u001b[0m                                             \u001b[39m.\u001b[39;49motherwise(  col(\u001b[39m\"\u001b[39;49m\u001b[39mold_seller_flag\u001b[39;49m\u001b[39m\"\u001b[39;49m) )\n\u001b[1;32m    123\u001b[0m                                         )\u001b[39m.\u001b[39mdrop(\u001b[39m\"\u001b[39m\u001b[39mold_seller_flag\u001b[39m\u001b[39m\"\u001b[39m, \u001b[39m\"\u001b[39m\u001b[39mnew_seller_flag\u001b[39m\u001b[39m\"\u001b[39m)\n\u001b[1;32m    124\u001b[0m merged_matches \u001b[39m=\u001b[39m merged_matches\u001b[39m.\u001b[39mwithColumn(\u001b[39m\"\u001b[39m\u001b[39mmatch_status\u001b[39m\u001b[39m\"\u001b[39m, when(col(\u001b[39m\"\u001b[39m\u001b[39mold_score\u001b[39m\u001b[39m\"\u001b[39m)\u001b[39m.\u001b[39misNull(), lit(\u001b[39m\"\u001b[39m\u001b[39mnew\u001b[39m\u001b[39m\"\u001b[39m))\\\n\u001b[1;32m    125\u001b[0m                                                             \u001b[39m.\u001b[39mwhen( col(\u001b[39m\"\u001b[39m\u001b[39mold_score\u001b[39m\u001b[39m\"\u001b[39m)\u001b[39m.\u001b[39misNotNull() \u001b[39m&\u001b[39m (col(\u001b[39m\"\u001b[39m\u001b[39mold_score\u001b[39m\u001b[39m\"\u001b[39m) \u001b[39m!=\u001b[39m col(\u001b[39m\"\u001b[39m\u001b[39mscore\u001b[39m\u001b[39m\"\u001b[39m) ), lit(\u001b[39m\"\u001b[39m\u001b[39mupdated\u001b[39m\u001b[39m\"\u001b[39m) )\\\n\u001b[1;32m    126\u001b[0m                                                             \u001b[39m.\u001b[39motherwise( lit(\u001b[39m\"\u001b[39m\u001b[39mnot_updated\u001b[39m\u001b[39m\"\u001b[39m) ) \n\u001b[1;32m    127\u001b[0m                                             )\n\u001b[1;32m    128\u001b[0m \u001b[39mreturn\u001b[39;00m merged_matches\n",
      "File \u001b[0;32m~/anaconda3/envs/deltarun/lib/python3.9/site-packages/pyspark/sql/dataframe.py:2478\u001b[0m, in \u001b[0;36mDataFrame.withColumn\u001b[0;34m(self, colName, col)\u001b[0m\n\u001b[1;32m   2476\u001b[0m \u001b[39mif\u001b[39;00m \u001b[39mnot\u001b[39;00m \u001b[39misinstance\u001b[39m(col, Column):\n\u001b[1;32m   2477\u001b[0m     \u001b[39mraise\u001b[39;00m \u001b[39mTypeError\u001b[39;00m(\u001b[39m\"\u001b[39m\u001b[39mcol should be Column\u001b[39m\u001b[39m\"\u001b[39m)\n\u001b[0;32m-> 2478\u001b[0m \u001b[39mreturn\u001b[39;00m DataFrame(\u001b[39mself\u001b[39;49m\u001b[39m.\u001b[39;49m_jdf\u001b[39m.\u001b[39;49mwithColumn(colName, col\u001b[39m.\u001b[39;49m_jc), \u001b[39mself\u001b[39m\u001b[39m.\u001b[39msql_ctx)\n",
      "File \u001b[0;32m~/anaconda3/envs/deltarun/lib/python3.9/site-packages/py4j/java_gateway.py:1321\u001b[0m, in \u001b[0;36mJavaMember.__call__\u001b[0;34m(self, *args)\u001b[0m\n\u001b[1;32m   1315\u001b[0m command \u001b[39m=\u001b[39m proto\u001b[39m.\u001b[39mCALL_COMMAND_NAME \u001b[39m+\u001b[39m\\\n\u001b[1;32m   1316\u001b[0m     \u001b[39mself\u001b[39m\u001b[39m.\u001b[39mcommand_header \u001b[39m+\u001b[39m\\\n\u001b[1;32m   1317\u001b[0m     args_command \u001b[39m+\u001b[39m\\\n\u001b[1;32m   1318\u001b[0m     proto\u001b[39m.\u001b[39mEND_COMMAND_PART\n\u001b[1;32m   1320\u001b[0m answer \u001b[39m=\u001b[39m \u001b[39mself\u001b[39m\u001b[39m.\u001b[39mgateway_client\u001b[39m.\u001b[39msend_command(command)\n\u001b[0;32m-> 1321\u001b[0m return_value \u001b[39m=\u001b[39m get_return_value(\n\u001b[1;32m   1322\u001b[0m     answer, \u001b[39mself\u001b[39;49m\u001b[39m.\u001b[39;49mgateway_client, \u001b[39mself\u001b[39;49m\u001b[39m.\u001b[39;49mtarget_id, \u001b[39mself\u001b[39;49m\u001b[39m.\u001b[39;49mname)\n\u001b[1;32m   1324\u001b[0m \u001b[39mfor\u001b[39;00m temp_arg \u001b[39min\u001b[39;00m temp_args:\n\u001b[1;32m   1325\u001b[0m     temp_arg\u001b[39m.\u001b[39m_detach()\n",
      "File \u001b[0;32m~/anaconda3/envs/deltarun/lib/python3.9/site-packages/pyspark/sql/utils.py:117\u001b[0m, in \u001b[0;36mcapture_sql_exception.<locals>.deco\u001b[0;34m(*a, **kw)\u001b[0m\n\u001b[1;32m    113\u001b[0m converted \u001b[39m=\u001b[39m convert_exception(e\u001b[39m.\u001b[39mjava_exception)\n\u001b[1;32m    114\u001b[0m \u001b[39mif\u001b[39;00m \u001b[39mnot\u001b[39;00m \u001b[39misinstance\u001b[39m(converted, UnknownException):\n\u001b[1;32m    115\u001b[0m     \u001b[39m# Hide where the exception came from that shows a non-Pythonic\u001b[39;00m\n\u001b[1;32m    116\u001b[0m     \u001b[39m# JVM exception message.\u001b[39;00m\n\u001b[0;32m--> 117\u001b[0m     \u001b[39mraise\u001b[39;00m converted \u001b[39mfrom\u001b[39;00m \u001b[39mNone\u001b[39m\n\u001b[1;32m    118\u001b[0m \u001b[39melse\u001b[39;00m:\n\u001b[1;32m    119\u001b[0m     \u001b[39mraise\u001b[39;00m\n",
      "\u001b[0;31mAnalysisException\u001b[0m: cannot resolve 'old_seller_flag' given input columns: [base_sku_uuid, comp_sku_uuid, day, month, new_score, new_seller_flag, old_score, pair_id, run_number, score, segment, source, uuid_a, uuid_b, year];\n'Project [pair_id#234, source#235, uuid_a#13, uuid_b#14, new_score#166, new_seller_flag#168, year#18, month#19, day#20, run_number#21, base_sku_uuid#1, comp_sku_uuid#2, old_score#181, score#351, segment#368, CASE WHEN isnull('old_seller_flag) THEN new_seller_flag#168 ELSE 'old_seller_flag END AS seller_flag#401]\n+- Project [pair_id#234, source#235, uuid_a#13, uuid_b#14, new_score#166, new_seller_flag#168, year#18, month#19, day#20, run_number#21, base_sku_uuid#1, comp_sku_uuid#2, old_score#181, score#351, segment#368]\n   +- Project [pair_id#234, source#235, uuid_a#13, uuid_b#14, new_score#166, new_segment#167, new_seller_flag#168, year#18, month#19, day#20, run_number#21, base_sku_uuid#1, comp_sku_uuid#2, old_segment#180, old_score#181, score#351, CASE WHEN isnull(old_segment#180) THEN new_segment#167 ELSE old_segment#180 END AS segment#368]\n      +- Project [pair_id#234, source#235, uuid_a#13, uuid_b#14, new_score#166, new_segment#167, new_seller_flag#168, year#18, month#19, day#20, run_number#21, base_sku_uuid#1, comp_sku_uuid#2, old_segment#180, old_score#181, CASE WHEN isnull(old_score#181) THEN new_score#166 WHEN isnull(new_score#166) THEN old_score#181 WHEN (((old_score#181 - new_score#166) >= -0.05) AND ((old_score#181 - new_score#166) <= 0.05)) THEN old_score#181 ELSE new_score#166 END AS score#351]\n         +- Project [coalesce(pair_id#12, pair_id#0) AS pair_id#234, coalesce(source#22, source#188) AS source#235, uuid_a#13, uuid_b#14, new_score#166, new_segment#167, new_seller_flag#168, year#18, month#19, day#20, run_number#21, base_sku_uuid#1, comp_sku_uuid#2, old_segment#180, old_score#181, score#189]\n            +- Join FullOuter, ((pair_id#12 = pair_id#0) AND (source#22 = source#188))\n               :- Project [pair_id#12, uuid_a#13, uuid_b#14, score#15 AS new_score#166, segment#16 AS new_segment#167, seller_flag#17 AS new_seller_flag#168, year#18, month#19, day#20, run_number#21, source#22]\n               :  +- Union false, false\n               :     :- LogicalRDD [pair_id#12, uuid_a#13, uuid_b#14, score#15, segment#16, seller_flag#17, year#18, month#19, day#20, run_number#21, source#22], false\n               :     :- Project [pair_id#34, uuid_a#35, uuid_b#36, score#37, segment#38, seller_flag#39, year#40, month#41, day#42, run_number#43, source#44]\n               :     :  +- LogicalRDD [pair_id#34, uuid_a#35, uuid_b#36, score#37, segment#38, seller_flag#39, year#40, month#41, day#42, run_number#43, source#44], false\n               :     :- Project [pair_id#56, uuid_a#57, uuid_b#58, score#59, segment#60, seller_flag#61, year#62, month#63, day#64, run_number#65, source#66]\n               :     :  +- LogicalRDD [pair_id#56, uuid_a#57, uuid_b#58, score#59, segment#60, seller_flag#61, year#62, month#63, day#64, run_number#65, source#66], false\n               :     +- Project [pair_id#78, uuid_a#79, uuid_b#80, score#81, segment#82, seller_flag#83, year#84, month#85, day#86, run_number#87, source#88]\n               :        +- LogicalRDD [pair_id#78, uuid_a#79, uuid_b#80, score#81, segment#82, seller_flag#83, year#84, month#85, day#86, run_number#87, source#88], false\n               +- Project [pair_id#0, base_sku_uuid#1, comp_sku_uuid#2, old_segment#180, old_score#181, source#188, score#189]\n                  +- Project [pair_id#0, base_sku_uuid#1, comp_sku_uuid#2, old_segment#180, match_source#4, old_score#181, source#188, score#189]\n                     +- Generate explode(match_source#4), false, [source#188, score#189]\n                        +- Project [pair_id#0, base_sku_uuid#1, comp_sku_uuid#2, segment#3 AS old_segment#180, match_source#4, score#5 AS old_score#181]\n                           +- LogicalRDD [pair_id#0, base_sku_uuid#1, comp_sku_uuid#2, segment#3, match_source#4, score#5], false\n"
     ]
    }
   ],
   "source": [
    "merged_matches = aggregator.aggregate_match_suggestion_and_mdw(mdw, merged_matches)"
   ]
  },
  {
   "cell_type": "code",
   "execution_count": null,
   "metadata": {},
   "outputs": [
    {
     "name": "stdout",
     "output_type": "stream",
     "text": [
      "+--------------------+----------+--------------------+--------------------+---------+-----------+-----------+----+-----+----+----------+--------------------+--------------------+-----------+---------+------+-------+------------+\n",
      "|             pair_id|    source|              uuid_a|              uuid_b|new_score|new_segment|seller_flag|year|month| day|run_number|       base_sku_uuid|       comp_sku_uuid|old_segment|old_score| score|segment|match_status|\n",
      "+--------------------+----------+--------------------+--------------------+---------+-----------+-----------+----+-----+----+----------+--------------------+--------------------+-----------+---------+------+-------+------------+\n",
      "|0000000000001<>53...|       MPN|0000000000001<>53...|00000000<>147664<...|      1.0|       pets|         1P|2023|   07|  17|        01|0000000000001<>53...|00000000<>147664<...|       pets|      2.0|   1.0|   pets|     updated|\n",
      "|0000000000001<>53...|TRANSITIVE|0000000000001<>53...|00000000<>147664<...|      1.0|       pets|         1P|2023|   07|  17|        01|                null|                null|       null|     null|   1.0|   pets|         new|\n",
      "|0000000000001<>53...|       UPC|0000000000001<>53...|00000000<>147664<...|      1.0|       pets|         1P|2023|   07|  17|        01|0000000000001<>53...|00000000<>147664<...|       pets|      2.0|   1.0|   pets|     updated|\n",
      "|0000000000001<>53...|       MPN|                null|                null|     null|       null|       null|null| null|null|      null|0000000000001<>53...|00000123<>147664<...|       pets|      2.0|   2.0|   pets| not_updated|\n",
      "|0000000000001<>53...|TRANSITIVE|0000000000001<>53...|00000123<>147664<...|      1.0|       pets|         1P|2023|   07|  17|        01|                null|                null|       null|     null|   1.0|   pets|         new|\n",
      "|0000000000001<>53...|       UPC|                null|                null|     null|       null|       null|null| null|null|      null|0000000000001<>53...|00000123<>147664<...|       pets|      2.0|   2.0|   pets| not_updated|\n",
      "|0000000000001<>53...|       MPN|                null|                null|     null|       null|       null|null| null|null|      null|0000000000001<>53...|00000432<>147664<...|       pets|      2.0|   2.0|   pets| not_updated|\n",
      "|0000000000001<>53...|TRANSITIVE|0000000000001<>53...|00000432<>147664<...|      1.0|       pets|         1P|2023|   07|  17|        01|                null|                null|       null|     null|   1.0|   pets|         new|\n",
      "|0000000000001<>53...|       UPC|0000000000001<>53...|00000432<>147664<...|      1.0|       pets|         1P|2023|   07|  17|        01|0000000000001<>53...|00000432<>147664<...|       pets|      2.0|   1.0|   pets|     updated|\n",
      "|000000000000<>534...|        ML|000000000000<>534...|000000000000<>534...|   0.8737|       pets|         1P|2023|   07|  17|        01|                null|                null|       null|     null|0.8737|   pets|         new|\n",
      "|000000000000<>534...|TRANSITIVE|000000000000<>534...|00000000<>147664<...|      1.0|       pets|         1P|2023|   07|  17|        01|                null|                null|       null|     null|   1.0|   pets|         new|\n",
      "|0000346280418<>20...|        ML|0000346280418<>20...|346280418<>g41033...|    0.987|       pets|         1P|2023|   07|  17|        01|                null|                null|       null|     null| 0.987|   pets|         new|\n",
      "|0000346280418<>20...|       MPN|0000346280418<>20...|346280418<>g41033...|      1.0|       pets|         1P|2023|   07|  17|        01|                null|                null|       null|     null|   1.0|   pets|         new|\n",
      "|0000346280418<>20...|       UPC|0000346280418<>20...|346280418<>g41033...|      1.0|       pets|         1P|2023|   07|  17|        01|                null|                null|       null|     null|   1.0|   pets|         new|\n",
      "|00003463186541<>1...|        ML|00003463186541<>1...|0003463186541<>10...|   0.8737|       pets|         1P|2023|   07|  17|        01|00003463186541<>1...|0003463186541<>10...|       pets|    1.745|0.8737|   pets|     updated|\n",
      "|00003463186541<>1...|       MPN|00003463186541<>1...|0003463186541<>10...|      1.0|       pets|         1P|2023|   07|  17|        01|00003463186541<>1...|0003463186541<>10...|       pets|    1.745|   1.0|   pets|     updated|\n",
      "|00003463186541<>1...|        ML|00003463186541<>1...|000346318654<>109...|   0.8737|       pets|         1P|2023|   07|  17|        01|00003463186541<>1...|000346318654<>109...|       pets|    1.745|0.8737|   pets|     updated|\n",
      "|00003463186541<>1...|       UPC|00003463186541<>1...|000346318654<>109...|      1.0|       pets|         1P|2023|   07|  17|        01|00003463186541<>1...|000346318654<>109...|       pets|    1.745|   1.0|   pets|     updated|\n",
      "|0000346318654<>10...|       MPN|0000346318654<>10...|000346318654<>109...|      1.0|       pets|         1P|2023|   07|  17|        01|                null|                null|       null|     null|   1.0|   pets|         new|\n",
      "|0000346318654<>10...|TRANSITIVE|0000346318654<>10...|000346318654<>109...|      1.0|       pets|         1P|2023|   07|  17|        01|                null|                null|       null|     null|   1.0|   pets|         new|\n",
      "+--------------------+----------+--------------------+--------------------+---------+-----------+-----------+----+-----+----+----------+--------------------+--------------------+-----------+---------+------+-------+------------+\n",
      "only showing top 20 rows\n",
      "\n"
     ]
    }
   ],
   "source": [
    "merged_matches.show()"
   ]
  },
  {
   "cell_type": "code",
   "execution_count": null,
   "metadata": {},
   "outputs": [
    {
     "ename": "AnalysisException",
     "evalue": "cannot resolve 'base_source_store' given input columns: [base_sku_uuid, comp_sku_uuid, day, match_status, month, new_score, new_segment, old_score, old_segment, pair_id, run_number, score, segment, seller_flag, source, uuid_a, uuid_b, year];\n'Aggregate [pair_id#233, segment#364, base_sku_uuid#1, comp_sku_uuid#2, 'base_source_store, 'comp_source_store, 'seller_type], [pair_id#233, segment#364, base_sku_uuid#1, comp_sku_uuid#2, 'base_source_store, 'comp_source_store, 'seller_type, map_from_entries(collect_list(struct(source, source#234, score, score#347), 0, 0)) AS match_source#943, collect_set(match_status#382, 0, 0) AS match_status#945, sum(score#347) AS score#947, collect_set('match_status_col_name, 0, 0) AS match_status_col_name#949]\n+- Project [pair_id#233, source#234, uuid_a#13, uuid_b#14, new_score#166, new_segment#167, seller_flag#17, year#18, month#19, day#20, run_number#21, base_sku_uuid#1, comp_sku_uuid#2, old_segment#179, old_score#180, score#347, segment#364, CASE WHEN isnull(old_score#180) THEN new WHEN (isnotnull(old_score#180) AND NOT (old_score#180 = score#347)) THEN updated ELSE not_updated END AS match_status#382]\n   +- Project [pair_id#233, source#234, uuid_a#13, uuid_b#14, new_score#166, new_segment#167, seller_flag#17, year#18, month#19, day#20, run_number#21, base_sku_uuid#1, comp_sku_uuid#2, old_segment#179, old_score#180, score#347, CASE WHEN isnull(old_segment#179) THEN new_segment#167 ELSE old_segment#179 END AS segment#364]\n      +- Project [pair_id#233, source#234, uuid_a#13, uuid_b#14, new_score#166, new_segment#167, seller_flag#17, year#18, month#19, day#20, run_number#21, base_sku_uuid#1, comp_sku_uuid#2, old_segment#179, old_score#180, CASE WHEN isnull(old_score#180) THEN new_score#166 WHEN isnull(new_score#166) THEN old_score#180 WHEN (((old_score#180 - new_score#166) >= -0.05) AND ((old_score#180 - new_score#166) <= 0.05)) THEN old_score#180 ELSE new_score#166 END AS score#347]\n         +- Project [coalesce(pair_id#12, pair_id#0) AS pair_id#233, coalesce(source#22, source#187) AS source#234, uuid_a#13, uuid_b#14, new_score#166, new_segment#167, seller_flag#17, year#18, month#19, day#20, run_number#21, base_sku_uuid#1, comp_sku_uuid#2, old_segment#179, old_score#180, score#188]\n            +- Join FullOuter, ((pair_id#12 = pair_id#0) AND (source#22 = source#187))\n               :- Project [pair_id#12, uuid_a#13, uuid_b#14, score#15 AS new_score#166, segment#16 AS new_segment#167, seller_flag#17, year#18, month#19, day#20, run_number#21, source#22]\n               :  +- Union false, false\n               :     :- LogicalRDD [pair_id#12, uuid_a#13, uuid_b#14, score#15, segment#16, seller_flag#17, year#18, month#19, day#20, run_number#21, source#22], false\n               :     :- Project [pair_id#34, uuid_a#35, uuid_b#36, score#37, segment#38, seller_flag#39, year#40, month#41, day#42, run_number#43, source#44]\n               :     :  +- LogicalRDD [pair_id#34, uuid_a#35, uuid_b#36, score#37, segment#38, seller_flag#39, year#40, month#41, day#42, run_number#43, source#44], false\n               :     :- Project [pair_id#56, uuid_a#57, uuid_b#58, score#59, segment#60, seller_flag#61, year#62, month#63, day#64, run_number#65, source#66]\n               :     :  +- LogicalRDD [pair_id#56, uuid_a#57, uuid_b#58, score#59, segment#60, seller_flag#61, year#62, month#63, day#64, run_number#65, source#66], false\n               :     +- Project [pair_id#78, uuid_a#79, uuid_b#80, score#81, segment#82, seller_flag#83, year#84, month#85, day#86, run_number#87, source#88]\n               :        +- LogicalRDD [pair_id#78, uuid_a#79, uuid_b#80, score#81, segment#82, seller_flag#83, year#84, month#85, day#86, run_number#87, source#88], false\n               +- Project [pair_id#0, base_sku_uuid#1, comp_sku_uuid#2, old_segment#179, old_score#180, source#187, score#188]\n                  +- Project [pair_id#0, base_sku_uuid#1, comp_sku_uuid#2, old_segment#179, match_source#4, old_score#180, source#187, score#188]\n                     +- Generate explode(match_source#4), false, [source#187, score#188]\n                        +- Project [pair_id#0, base_sku_uuid#1, comp_sku_uuid#2, segment#3 AS old_segment#179, match_source#4, score#5 AS old_score#180]\n                           +- LogicalRDD [pair_id#0, base_sku_uuid#1, comp_sku_uuid#2, segment#3, match_source#4, score#5], false\n",
     "output_type": "error",
     "traceback": [
      "\u001b[0;31m---------------------------------------------------------------------------\u001b[0m",
      "\u001b[0;31mAnalysisException\u001b[0m                         Traceback (most recent call last)",
      "\u001b[1;32m/home/preacher/Bungee/CodeRepo/match-management-system/match_generator/src/aggregator/aggregator.ipynb Cell 20\u001b[0m line \u001b[0;36m<cell line: 1>\u001b[0;34m()\u001b[0m\n\u001b[0;32m----> <a href='vscode-notebook-cell:/home/preacher/Bungee/CodeRepo/match-management-system/match_generator/src/aggregator/aggregator.ipynb#X25sZmlsZQ%3D%3D?line=0'>1</a>\u001b[0m updated_matches_suggestion, new_matches_suggestion \u001b[39m=\u001b[39m aggregator\u001b[39m.\u001b[39;49mfetch_updated_and_new_matches_suggestions(merged_matches)\n",
      "File \u001b[0;32m~/Bungee/CodeRepo/match-management-system/match_generator/src/aggregator/aggregator.py:128\u001b[0m, in \u001b[0;36mAggregator.fetch_updated_and_new_matches_suggestions\u001b[0;34m(self, merged_match_suggestion)\u001b[0m\n\u001b[1;32m    126\u001b[0m \u001b[39mdef\u001b[39;00m \u001b[39mfetch_updated_and_new_matches_suggestions\u001b[39m(\u001b[39mself\u001b[39m, merged_match_suggestion: DataFrame):\n\u001b[0;32m--> 128\u001b[0m     merged_match_suggestion \u001b[39m=\u001b[39m merged_match_suggestion\u001b[39m.\u001b[39;49mgroupBy(\u001b[39m\"\u001b[39;49m\u001b[39mpair_id\u001b[39;49m\u001b[39m\"\u001b[39;49m, \u001b[39m\"\u001b[39;49m\u001b[39msegment\u001b[39;49m\u001b[39m\"\u001b[39;49m, \u001b[39m\"\u001b[39;49m\u001b[39mbase_sku_uuid\u001b[39;49m\u001b[39m\"\u001b[39;49m, \u001b[39m\"\u001b[39;49m\u001b[39mcomp_sku_uuid\u001b[39;49m\u001b[39m\"\u001b[39;49m, \u001b[39m\"\u001b[39;49m\u001b[39mbase_source_store\u001b[39;49m\u001b[39m\"\u001b[39;49m, \u001b[39m\"\u001b[39;49m\u001b[39mcomp_source_store\u001b[39;49m\u001b[39m\"\u001b[39;49m, \u001b[39m\"\u001b[39;49m\u001b[39mseller_type\u001b[39;49m\u001b[39m\"\u001b[39;49m)\u001b[39m.\u001b[39;49m\\\n\u001b[1;32m    129\u001b[0m                                     agg( map_from_entries( collect_list( struct(\u001b[39m\"\u001b[39;49m\u001b[39msource\u001b[39;49m\u001b[39m\"\u001b[39;49m,\u001b[39m\"\u001b[39;49m\u001b[39mscore\u001b[39;49m\u001b[39m\"\u001b[39;49m)))\u001b[39m.\u001b[39;49malias(\u001b[39m\"\u001b[39;49m\u001b[39mmatch_source\u001b[39;49m\u001b[39m\"\u001b[39;49m), \n\u001b[1;32m    130\u001b[0m                                         collect_set(\u001b[39m\"\u001b[39;49m\u001b[39mmatch_status\u001b[39;49m\u001b[39m\"\u001b[39;49m)\u001b[39m.\u001b[39;49malias(\u001b[39m\"\u001b[39;49m\u001b[39mmatch_status\u001b[39;49m\u001b[39m\"\u001b[39;49m) , \u001b[39msum\u001b[39;49m(col(\u001b[39m\"\u001b[39;49m\u001b[39mscore\u001b[39;49m\u001b[39m\"\u001b[39;49m))\u001b[39m.\u001b[39;49malias(\u001b[39m\"\u001b[39;49m\u001b[39mscore\u001b[39;49m\u001b[39m\"\u001b[39;49m), collect_set(\u001b[39m\"\u001b[39;49m\u001b[39mmatch_status_col_name\u001b[39;49m\u001b[39m\"\u001b[39;49m)\u001b[39m.\u001b[39;49malias(\u001b[39m\"\u001b[39;49m\u001b[39mmatch_status_col_name\u001b[39;49m\u001b[39m\"\u001b[39;49m))\n\u001b[1;32m    132\u001b[0m     unaudited_match_suggestion \u001b[39m=\u001b[39m merged_match_suggestion\u001b[39m.\u001b[39mfilter(\u001b[39m~\u001b[39m(array_contains(col(\u001b[39m\"\u001b[39m\u001b[39mmatch_status_col_name\u001b[39m\u001b[39m\"\u001b[39m), \u001b[39m\"\u001b[39m\u001b[39maudited\u001b[39m\u001b[39m\"\u001b[39m))) \u001b[39m# remove audited match\u001b[39;00m\n\u001b[1;32m    133\u001b[0m     new_matches_suggestion \u001b[39m=\u001b[39m unaudited_match_suggestion\u001b[39m.\u001b[39mfilter( (size(col(\u001b[39m\"\u001b[39m\u001b[39mmatch_status\u001b[39m\u001b[39m\"\u001b[39m)) \u001b[39m==\u001b[39m \u001b[39m1\u001b[39m) \u001b[39m&\u001b[39m array_contains(col(\u001b[39m\"\u001b[39m\u001b[39mmatch_status\u001b[39m\u001b[39m\"\u001b[39m), \u001b[39m\"\u001b[39m\u001b[39mnew\u001b[39m\u001b[39m\"\u001b[39m) ) \u001b[39m# remove non updated match                                                             \u001b[39;00m\n",
      "File \u001b[0;32m~/anaconda3/envs/deltarun/lib/python3.9/site-packages/pyspark/sql/group.py:118\u001b[0m, in \u001b[0;36mGroupedData.agg\u001b[0;34m(self, *exprs)\u001b[0m\n\u001b[1;32m    115\u001b[0m \u001b[39melse\u001b[39;00m:\n\u001b[1;32m    116\u001b[0m     \u001b[39m# Columns\u001b[39;00m\n\u001b[1;32m    117\u001b[0m     \u001b[39massert\u001b[39;00m \u001b[39mall\u001b[39m(\u001b[39misinstance\u001b[39m(c, Column) \u001b[39mfor\u001b[39;00m c \u001b[39min\u001b[39;00m exprs), \u001b[39m\"\u001b[39m\u001b[39mall exprs should be Column\u001b[39m\u001b[39m\"\u001b[39m\n\u001b[0;32m--> 118\u001b[0m     jdf \u001b[39m=\u001b[39m \u001b[39mself\u001b[39;49m\u001b[39m.\u001b[39;49m_jgd\u001b[39m.\u001b[39;49magg(exprs[\u001b[39m0\u001b[39;49m]\u001b[39m.\u001b[39;49m_jc,\n\u001b[1;32m    119\u001b[0m                         _to_seq(\u001b[39mself\u001b[39;49m\u001b[39m.\u001b[39;49msql_ctx\u001b[39m.\u001b[39;49m_sc, [c\u001b[39m.\u001b[39;49m_jc \u001b[39mfor\u001b[39;49;00m c \u001b[39min\u001b[39;49;00m exprs[\u001b[39m1\u001b[39;49m:]]))\n\u001b[1;32m    120\u001b[0m \u001b[39mreturn\u001b[39;00m DataFrame(jdf, \u001b[39mself\u001b[39m\u001b[39m.\u001b[39msql_ctx)\n",
      "File \u001b[0;32m~/anaconda3/envs/deltarun/lib/python3.9/site-packages/py4j/java_gateway.py:1321\u001b[0m, in \u001b[0;36mJavaMember.__call__\u001b[0;34m(self, *args)\u001b[0m\n\u001b[1;32m   1315\u001b[0m command \u001b[39m=\u001b[39m proto\u001b[39m.\u001b[39mCALL_COMMAND_NAME \u001b[39m+\u001b[39m\\\n\u001b[1;32m   1316\u001b[0m     \u001b[39mself\u001b[39m\u001b[39m.\u001b[39mcommand_header \u001b[39m+\u001b[39m\\\n\u001b[1;32m   1317\u001b[0m     args_command \u001b[39m+\u001b[39m\\\n\u001b[1;32m   1318\u001b[0m     proto\u001b[39m.\u001b[39mEND_COMMAND_PART\n\u001b[1;32m   1320\u001b[0m answer \u001b[39m=\u001b[39m \u001b[39mself\u001b[39m\u001b[39m.\u001b[39mgateway_client\u001b[39m.\u001b[39msend_command(command)\n\u001b[0;32m-> 1321\u001b[0m return_value \u001b[39m=\u001b[39m get_return_value(\n\u001b[1;32m   1322\u001b[0m     answer, \u001b[39mself\u001b[39;49m\u001b[39m.\u001b[39;49mgateway_client, \u001b[39mself\u001b[39;49m\u001b[39m.\u001b[39;49mtarget_id, \u001b[39mself\u001b[39;49m\u001b[39m.\u001b[39;49mname)\n\u001b[1;32m   1324\u001b[0m \u001b[39mfor\u001b[39;00m temp_arg \u001b[39min\u001b[39;00m temp_args:\n\u001b[1;32m   1325\u001b[0m     temp_arg\u001b[39m.\u001b[39m_detach()\n",
      "File \u001b[0;32m~/anaconda3/envs/deltarun/lib/python3.9/site-packages/pyspark/sql/utils.py:117\u001b[0m, in \u001b[0;36mcapture_sql_exception.<locals>.deco\u001b[0;34m(*a, **kw)\u001b[0m\n\u001b[1;32m    113\u001b[0m converted \u001b[39m=\u001b[39m convert_exception(e\u001b[39m.\u001b[39mjava_exception)\n\u001b[1;32m    114\u001b[0m \u001b[39mif\u001b[39;00m \u001b[39mnot\u001b[39;00m \u001b[39misinstance\u001b[39m(converted, UnknownException):\n\u001b[1;32m    115\u001b[0m     \u001b[39m# Hide where the exception came from that shows a non-Pythonic\u001b[39;00m\n\u001b[1;32m    116\u001b[0m     \u001b[39m# JVM exception message.\u001b[39;00m\n\u001b[0;32m--> 117\u001b[0m     \u001b[39mraise\u001b[39;00m converted \u001b[39mfrom\u001b[39;00m \u001b[39mNone\u001b[39m\n\u001b[1;32m    118\u001b[0m \u001b[39melse\u001b[39;00m:\n\u001b[1;32m    119\u001b[0m     \u001b[39mraise\u001b[39;00m\n",
      "\u001b[0;31mAnalysisException\u001b[0m: cannot resolve 'base_source_store' given input columns: [base_sku_uuid, comp_sku_uuid, day, match_status, month, new_score, new_segment, old_score, old_segment, pair_id, run_number, score, segment, seller_flag, source, uuid_a, uuid_b, year];\n'Aggregate [pair_id#233, segment#364, base_sku_uuid#1, comp_sku_uuid#2, 'base_source_store, 'comp_source_store, 'seller_type], [pair_id#233, segment#364, base_sku_uuid#1, comp_sku_uuid#2, 'base_source_store, 'comp_source_store, 'seller_type, map_from_entries(collect_list(struct(source, source#234, score, score#347), 0, 0)) AS match_source#943, collect_set(match_status#382, 0, 0) AS match_status#945, sum(score#347) AS score#947, collect_set('match_status_col_name, 0, 0) AS match_status_col_name#949]\n+- Project [pair_id#233, source#234, uuid_a#13, uuid_b#14, new_score#166, new_segment#167, seller_flag#17, year#18, month#19, day#20, run_number#21, base_sku_uuid#1, comp_sku_uuid#2, old_segment#179, old_score#180, score#347, segment#364, CASE WHEN isnull(old_score#180) THEN new WHEN (isnotnull(old_score#180) AND NOT (old_score#180 = score#347)) THEN updated ELSE not_updated END AS match_status#382]\n   +- Project [pair_id#233, source#234, uuid_a#13, uuid_b#14, new_score#166, new_segment#167, seller_flag#17, year#18, month#19, day#20, run_number#21, base_sku_uuid#1, comp_sku_uuid#2, old_segment#179, old_score#180, score#347, CASE WHEN isnull(old_segment#179) THEN new_segment#167 ELSE old_segment#179 END AS segment#364]\n      +- Project [pair_id#233, source#234, uuid_a#13, uuid_b#14, new_score#166, new_segment#167, seller_flag#17, year#18, month#19, day#20, run_number#21, base_sku_uuid#1, comp_sku_uuid#2, old_segment#179, old_score#180, CASE WHEN isnull(old_score#180) THEN new_score#166 WHEN isnull(new_score#166) THEN old_score#180 WHEN (((old_score#180 - new_score#166) >= -0.05) AND ((old_score#180 - new_score#166) <= 0.05)) THEN old_score#180 ELSE new_score#166 END AS score#347]\n         +- Project [coalesce(pair_id#12, pair_id#0) AS pair_id#233, coalesce(source#22, source#187) AS source#234, uuid_a#13, uuid_b#14, new_score#166, new_segment#167, seller_flag#17, year#18, month#19, day#20, run_number#21, base_sku_uuid#1, comp_sku_uuid#2, old_segment#179, old_score#180, score#188]\n            +- Join FullOuter, ((pair_id#12 = pair_id#0) AND (source#22 = source#187))\n               :- Project [pair_id#12, uuid_a#13, uuid_b#14, score#15 AS new_score#166, segment#16 AS new_segment#167, seller_flag#17, year#18, month#19, day#20, run_number#21, source#22]\n               :  +- Union false, false\n               :     :- LogicalRDD [pair_id#12, uuid_a#13, uuid_b#14, score#15, segment#16, seller_flag#17, year#18, month#19, day#20, run_number#21, source#22], false\n               :     :- Project [pair_id#34, uuid_a#35, uuid_b#36, score#37, segment#38, seller_flag#39, year#40, month#41, day#42, run_number#43, source#44]\n               :     :  +- LogicalRDD [pair_id#34, uuid_a#35, uuid_b#36, score#37, segment#38, seller_flag#39, year#40, month#41, day#42, run_number#43, source#44], false\n               :     :- Project [pair_id#56, uuid_a#57, uuid_b#58, score#59, segment#60, seller_flag#61, year#62, month#63, day#64, run_number#65, source#66]\n               :     :  +- LogicalRDD [pair_id#56, uuid_a#57, uuid_b#58, score#59, segment#60, seller_flag#61, year#62, month#63, day#64, run_number#65, source#66], false\n               :     +- Project [pair_id#78, uuid_a#79, uuid_b#80, score#81, segment#82, seller_flag#83, year#84, month#85, day#86, run_number#87, source#88]\n               :        +- LogicalRDD [pair_id#78, uuid_a#79, uuid_b#80, score#81, segment#82, seller_flag#83, year#84, month#85, day#86, run_number#87, source#88], false\n               +- Project [pair_id#0, base_sku_uuid#1, comp_sku_uuid#2, old_segment#179, old_score#180, source#187, score#188]\n                  +- Project [pair_id#0, base_sku_uuid#1, comp_sku_uuid#2, old_segment#179, match_source#4, old_score#180, source#187, score#188]\n                     +- Generate explode(match_source#4), false, [source#187, score#188]\n                        +- Project [pair_id#0, base_sku_uuid#1, comp_sku_uuid#2, segment#3 AS old_segment#179, match_source#4, score#5 AS old_score#180]\n                           +- LogicalRDD [pair_id#0, base_sku_uuid#1, comp_sku_uuid#2, segment#3, match_source#4, score#5], false\n"
     ]
    }
   ],
   "source": [
    "updated_matches_suggestion, new_matches_suggestion = aggregator.fetch_updated_and_new_matches_suggestions(merged_matches)"
   ]
  }
 ],
 "metadata": {
  "kernelspec": {
   "display_name": "deltarun",
   "language": "python",
   "name": "python3"
  },
  "language_info": {
   "codemirror_mode": {
    "name": "ipython",
    "version": 3
   },
   "file_extension": ".py",
   "mimetype": "text/x-python",
   "name": "python",
   "nbconvert_exporter": "python",
   "pygments_lexer": "ipython3",
   "version": "3.9.13"
  }
 },
 "nbformat": 4,
 "nbformat_minor": 2
}
